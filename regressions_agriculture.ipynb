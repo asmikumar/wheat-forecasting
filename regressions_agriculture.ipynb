{
 "cells": [
  {
   "cell_type": "code",
   "execution_count": 1,
   "metadata": {},
   "outputs": [],
   "source": [
    "import warnings\n",
    "warnings.filterwarnings('ignore')"
   ]
  },
  {
   "cell_type": "code",
   "execution_count": 2,
   "metadata": {},
   "outputs": [],
   "source": [
    "import numpy as np\n",
    "import pandas as pd\n",
    "from collections import defaultdict\n",
    "from itertools import cycle"
   ]
  },
  {
   "cell_type": "code",
   "execution_count": 3,
   "metadata": {},
   "outputs": [],
   "source": [
    "from sklearn.model_selection import train_test_split\n",
    "from sklearn.linear_model import LinearRegression\n",
    "from sklearn.metrics import mean_squared_error\n",
    "from sklearn.metrics import r2_score\n",
    "from sklearn.preprocessing import PolynomialFeatures"
   ]
  },
  {
   "cell_type": "code",
   "execution_count": 4,
   "metadata": {},
   "outputs": [],
   "source": [
    "import matplotlib\n",
    "import matplotlib.pyplot as plt\n",
    "import seaborn as sns\n",
    "from matplotlib.patches import Rectangle"
   ]
  },
  {
   "cell_type": "code",
   "execution_count": 5,
   "metadata": {},
   "outputs": [],
   "source": [
    "matplotlib.rcParams['figure.dpi'] = 125"
   ]
  },
  {
   "cell_type": "markdown",
   "metadata": {},
   "source": [
    "### Cause of loss\n",
    "• For each county, retrieving relative percentages of top five causes of loss, from 1989-2018  \n",
    "• Creating five columns to input as features into multiple regression"
   ]
  },
  {
   "cell_type": "code",
   "execution_count": 6,
   "metadata": {},
   "outputs": [],
   "source": [
    "def get_top_causes(county, loss_county_year, loss_state_top):\n",
    "    loss_county_year_dict = loss_county_year.to_dict()\n",
    "    loss_county_year_dict_top = {}\n",
    "    for key in loss_county_year_dict:\n",
    "        year, cause = key[0], key[1]\n",
    "        if cause in loss_state_top:\n",
    "            loss_county_year_dict_top[key] = loss_county_year_dict[key]\n",
    "            \n",
    "    mapping = defaultdict(dict)\n",
    "    for key in loss_county_year_dict_top:\n",
    "        mapping[key[0]][key[1]] = loss_county_year_dict_top[key]\n",
    "        \n",
    "    for key in mapping: # key is a year\n",
    "        value = mapping[key] # type dict\n",
    "        for cause in loss_state_top:\n",
    "            if cause not in value:\n",
    "                value[cause] = 0\n",
    "    \n",
    "    df_mapping = pd.DataFrame(mapping).T\n",
    "    df_mapping['County Name'] = county\n",
    "    df_mapping = df_mapping.reset_index()\n",
    "    df_mapping.rename(columns={'index':'Year'}, inplace=True)\n",
    "    return df_mapping"
   ]
  },
  {
   "cell_type": "markdown",
   "metadata": {},
   "source": [
    "#### Kansas"
   ]
  },
  {
   "cell_type": "code",
   "execution_count": 7,
   "metadata": {},
   "outputs": [],
   "source": [
    "loss_Grant = pd.read_csv('Data_KS_WA/KS/KS_Cause_of_Loss/KS_Grant_Cause_of_Loss.csv')\n",
    "loss_Gray = pd.read_csv('Data_KS_WA/KS/KS_Cause_of_Loss/KS_Gray_Cause_of_Loss.csv')\n",
    "loss_Haskell = pd.read_csv('Data_KS_WA/KS/KS_Cause_of_Loss/KS_Haskell_Cause_of_Loss.csv')\n",
    "loss_Kearny = pd.read_csv('Data_KS_WA/KS/KS_Cause_of_Loss/KS_Kearny_Cause_of_Loss.csv')\n",
    "loss_Morton = pd.read_csv('Data_KS_WA/KS/KS_Cause_of_Loss/KS_Morton_Cause_of_Loss.csv') "
   ]
  },
  {
   "cell_type": "code",
   "execution_count": 8,
   "metadata": {},
   "outputs": [
    {
     "name": "stdout",
     "output_type": "stream",
     "text": [
      "['Drought', 'Freeze', 'Hail']\n"
     ]
    }
   ],
   "source": [
    "loss_KS = pd.concat([loss_Grant, loss_Gray, loss_Haskell, loss_Kearny, loss_Morton])[['County name', 'Year', 'Cause of loss']]\n",
    "loss_KS_overall = loss_KS['Cause of loss'].value_counts().head(3)\n",
    "loss_KS_top = list(loss_KS_overall.to_dict().keys())\n",
    "print(loss_KS_top)"
   ]
  },
  {
   "cell_type": "code",
   "execution_count": 9,
   "metadata": {},
   "outputs": [],
   "source": [
    "loss_Grant_year = loss_Grant['Cause of loss'].groupby(loss_Grant['Year']).value_counts(normalize=True)\n",
    "loss_Gray_year = loss_Gray['Cause of loss'].groupby(loss_Gray['Year']).value_counts(normalize=True)\n",
    "loss_Haskell_year = loss_Haskell['Cause of loss'].groupby(loss_Haskell['Year']).value_counts(normalize=True)\n",
    "loss_Kearny_year = loss_Kearny['Cause of loss'].groupby(loss_Kearny['Year']).value_counts(normalize=True)\n",
    "loss_Morton_year = loss_Morton['Cause of loss'].groupby(loss_Morton['Year']).value_counts(normalize=True)\n",
    "\n",
    "causes_feat_Grant = get_top_causes('Grant', loss_Grant_year, loss_KS_top)\n",
    "causes_feat_Gray = get_top_causes('Gray', loss_Gray_year, loss_KS_top)\n",
    "causes_feat_Haskell = get_top_causes('Haskell', loss_Haskell_year, loss_KS_top)\n",
    "causes_feat_Kearny = get_top_causes('Kearny', loss_Kearny_year, loss_KS_top)\n",
    "causes_feat_Morton = get_top_causes('Morton', loss_Morton_year, loss_KS_top)\n",
    "\n",
    "causes_feat_KS = pd.concat([causes_feat_Grant, causes_feat_Gray, causes_feat_Haskell, causes_feat_Kearny, causes_feat_Morton])"
   ]
  },
  {
   "cell_type": "markdown",
   "metadata": {},
   "source": [
    "#### Washington"
   ]
  },
  {
   "cell_type": "code",
   "execution_count": 10,
   "metadata": {},
   "outputs": [],
   "source": [
    "loss_Lincoln = pd.read_csv('Data_KS_WA/WA/WA_Cause_of_Loss/WA_Lincoln_Cause_of_Loss.csv')\n",
    "loss_Okanogan = pd.read_csv('Data_KS_WA/WA/WA_Cause_of_Loss/WA_Okanogan_Cause_of_Loss.csv')\n",
    "loss_Skagit = pd.read_csv('Data_KS_WA/WA/WA_Cause_of_Loss/WA_Skagit_Cause_of_Loss.csv')\n",
    "loss_Spokane = pd.read_csv('Data_KS_WA/WA/WA_Cause_of_Loss/WA_Spokane_Cause_of_Loss.csv')\n",
    "loss_Whitman = pd.read_csv('Data_KS_WA/WA/WA_Cause_of_Loss/WA_Whitman_Cause_of_Loss.csv') "
   ]
  },
  {
   "cell_type": "code",
   "execution_count": 11,
   "metadata": {},
   "outputs": [
    {
     "name": "stdout",
     "output_type": "stream",
     "text": [
      "['Drought', 'Heat', 'Cold Winter']\n"
     ]
    }
   ],
   "source": [
    "loss_WA = pd.concat([loss_Lincoln, loss_Okanogan, loss_Skagit, loss_Spokane, loss_Whitman])[['County name', 'Year', 'Cause of loss']]\n",
    "loss_WA_overall = loss_WA['Cause of loss'].value_counts().head(3)\n",
    "loss_WA_top = list(loss_WA_overall.to_dict().keys())\n",
    "print(loss_WA_top)"
   ]
  },
  {
   "cell_type": "code",
   "execution_count": 12,
   "metadata": {},
   "outputs": [],
   "source": [
    "loss_Lincoln_year = loss_Lincoln['Cause of loss'].groupby(loss_Lincoln['Year']).value_counts(normalize=True)\n",
    "loss_Okanogan_year = loss_Okanogan['Cause of loss'].groupby(loss_Okanogan['Year']).value_counts(normalize=True)\n",
    "loss_Skagit_year = loss_Skagit['Cause of loss'].groupby(loss_Skagit['Year']).value_counts(normalize=True)\n",
    "loss_Spokane_year = loss_Spokane['Cause of loss'].groupby(loss_Spokane['Year']).value_counts(normalize=True)\n",
    "loss_Whitman_year = loss_Whitman['Cause of loss'].groupby(loss_Whitman['Year']).value_counts(normalize=True)\n",
    "\n",
    "causes_feat_Lincoln = get_top_causes('Lincoln', loss_Lincoln_year, loss_WA_top)\n",
    "causes_feat_Okanogan = get_top_causes('Okanogan', loss_Okanogan_year, loss_WA_top)\n",
    "causes_feat_Skagit = get_top_causes('Skagit', loss_Skagit_year, loss_WA_top)\n",
    "causes_feat_Spokane = get_top_causes('Spokane', loss_Spokane_year, loss_WA_top)\n",
    "causes_feat_Whitman = get_top_causes('Whitman', loss_Whitman_year, loss_WA_top)\n",
    "\n",
    "causes_feat_WA = pd.concat([causes_feat_Lincoln, causes_feat_Okanogan, causes_feat_Skagit, causes_feat_Spokane, causes_feat_Whitman])"
   ]
  },
  {
   "cell_type": "markdown",
   "metadata": {},
   "source": [
    "### Climate\n",
    "• For each county, retrieving annual average mean temperature and precipitation, from 1989-2018  \n",
    "• For each state (beyond region), retrieving average annual drought indices, from 1989-2018"
   ]
  },
  {
   "cell_type": "code",
   "execution_count": 13,
   "metadata": {},
   "outputs": [],
   "source": [
    "def get_avg_temp(county, avg_temp_county):\n",
    "    avg_temp_county = avg_temp_county.drop(['Anomaly'], axis=1)\n",
    "    avg_temp_county.rename(columns={'Value':'Avg_Temp'}, inplace=True)\n",
    "    avg_temp_county['Year'] = avg_temp_county['Date'].apply(lambda x: int(str(x)[:4]))\n",
    "    avg_temp_county = avg_temp_county.drop(['Date'], axis=1)\n",
    "    avg_temp_county['County Name'] = county\n",
    "    avg_temp_county = avg_temp_county[avg_temp_county.Year <= 2018] # years from 1989-2018 (lower bound already 1989)\n",
    "    return avg_temp_county\n",
    "\n",
    "def get_precip(county, precip_county):\n",
    "    precip_county = precip_county.drop(['Anomaly'], axis=1)\n",
    "    precip_county.rename(columns={'Value':'Precipitation'}, inplace=True)\n",
    "    precip_county['Year'] = precip_county['Date'].apply(lambda x: int(str(x)[:4]))\n",
    "    precip_county = precip_county.drop(['Date'], axis=1)\n",
    "    precip_county['County Name'] = county\n",
    "    precip_county = precip_county[precip_county.Year <= 2018] # years from 1989-2018 (lower bound already 1989)\n",
    "    return precip_county\n",
    "\n",
    "def get_drought(state, drought_state):\n",
    "    drought_state = drought_state.drop(['Anomaly'], axis=1)\n",
    "    drought_state.rename(columns={'Value':'PDSI'}, inplace=True)\n",
    "    drought_state['Year'] = drought_state['Date'].apply(lambda x: int(str(x)[:4]))\n",
    "    drought_state = drought_state.drop(['Date'], axis=1)\n",
    "    drought_state = pd.DataFrame(drought_state.groupby(['Year'], as_index=False)['PDSI'].mean()) # averaging monthly PDSIs\n",
    "    drought_state['State Abbrv'] = state\n",
    "    drought_state = drought_state[drought_state.Year <= 2018]\n",
    "    return drought_state"
   ]
  },
  {
   "cell_type": "markdown",
   "metadata": {},
   "source": [
    "#### Kansas"
   ]
  },
  {
   "cell_type": "code",
   "execution_count": 14,
   "metadata": {},
   "outputs": [],
   "source": [
    "avg_temp_Grant = pd.read_csv('Data_KS_WA/KS/KS_Climate/Annual/KS_Grant_Avg_Temp_Annual.csv', skiprows=4)\n",
    "avg_temp_Gray = pd.read_csv('Data_KS_WA/KS/KS_Climate/Annual/KS_Gray_Avg_Temp_Annual.csv', skiprows=4)\n",
    "avg_temp_Haskell = pd.read_csv('Data_KS_WA/KS/KS_Climate/Annual/KS_Haskell_Avg_Temp_Annual.csv', skiprows=4)\n",
    "avg_temp_Kearny = pd.read_csv('Data_KS_WA/KS/KS_Climate/Annual/KS_Kearny_Avg_Temp_Annual.csv', skiprows=4)\n",
    "avg_temp_Morton = pd.read_csv('Data_KS_WA/KS/KS_Climate/Annual/KS_Morton_Avg_Temp_Annual.csv', skiprows=4)\n",
    "\n",
    "precip_Grant = pd.read_csv('Data_KS_WA/KS/KS_Climate/Annual/KS_Grant_Precipitation_Annual.csv', skiprows=4)\n",
    "precip_Gray = pd.read_csv('Data_KS_WA/KS/KS_Climate/Annual/KS_Gray_Precipitation_Annual.csv', skiprows=4)\n",
    "precip_Haskell = pd.read_csv('Data_KS_WA/KS/KS_Climate/Annual/KS_Haskell_Precipitation_Annual.csv', skiprows=4)\n",
    "precip_Kearny = pd.read_csv('Data_KS_WA/KS/KS_Climate/Annual/KS_Kearny_Precipitation_Annual.csv', skiprows=4)\n",
    "precip_Morton = pd.read_csv('Data_KS_WA/KS/KS_Climate/Annual/KS_Morton_Precipitation_Annual.csv', skiprows=4)\n",
    "\n",
    "drought_KS = pd.read_csv('Data_KS_WA/KS/KS_Climate/Annual/KS_PDSI.csv', skiprows=3)"
   ]
  },
  {
   "cell_type": "code",
   "execution_count": 15,
   "metadata": {},
   "outputs": [],
   "source": [
    "avg_temp_feat_Grant = get_avg_temp('Grant', avg_temp_Grant)\n",
    "avg_temp_feat_Gray = get_avg_temp('Gray', avg_temp_Gray)\n",
    "avg_temp_feat_Haskell = get_avg_temp('Haskell', avg_temp_Haskell)\n",
    "avg_temp_feat_Kearny = get_avg_temp('Kearny', avg_temp_Kearny)\n",
    "avg_temp_feat_Morton = get_avg_temp('Morton', avg_temp_Morton)\n",
    "\n",
    "precip_feat_Grant = get_precip('Grant', precip_Grant)\n",
    "precip_feat_Gray = get_precip('Gray', precip_Gray)\n",
    "precip_feat_Haskell = get_precip('Haskell', precip_Haskell)\n",
    "precip_feat_Kearny = get_precip('Kearny', precip_Kearny)\n",
    "precip_feat_Morton = get_precip('Morton', precip_Morton)\n",
    "\n",
    "drought_feat_KS = get_drought('KS', drought_KS)\n",
    "\n",
    "avg_temp_feat_KS = pd.concat([avg_temp_feat_Grant, avg_temp_feat_Gray, avg_temp_feat_Haskell, avg_temp_feat_Kearny, avg_temp_feat_Morton])\n",
    "precip_feat_KS = pd.concat([precip_feat_Grant, precip_feat_Gray, precip_feat_Haskell, precip_feat_Kearny, precip_feat_Morton])"
   ]
  },
  {
   "cell_type": "code",
   "execution_count": 16,
   "metadata": {},
   "outputs": [
    {
     "data": {
      "text/html": [
       "<div>\n",
       "<style scoped>\n",
       "    .dataframe tbody tr th:only-of-type {\n",
       "        vertical-align: middle;\n",
       "    }\n",
       "\n",
       "    .dataframe tbody tr th {\n",
       "        vertical-align: top;\n",
       "    }\n",
       "\n",
       "    .dataframe thead th {\n",
       "        text-align: right;\n",
       "    }\n",
       "</style>\n",
       "<table border=\"1\" class=\"dataframe\">\n",
       "  <thead>\n",
       "    <tr style=\"text-align: right;\">\n",
       "      <th></th>\n",
       "      <th>Avg_Temp</th>\n",
       "      <th>Year</th>\n",
       "      <th>County Name</th>\n",
       "      <th>Precipitation</th>\n",
       "      <th>PDSI</th>\n",
       "      <th>State Abbrv</th>\n",
       "    </tr>\n",
       "  </thead>\n",
       "  <tbody>\n",
       "    <tr>\n",
       "      <th>0</th>\n",
       "      <td>53.4</td>\n",
       "      <td>1989</td>\n",
       "      <td>Grant</td>\n",
       "      <td>23.95</td>\n",
       "      <td>-1.267500e+00</td>\n",
       "      <td>KS</td>\n",
       "    </tr>\n",
       "    <tr>\n",
       "      <th>1</th>\n",
       "      <td>54.9</td>\n",
       "      <td>1990</td>\n",
       "      <td>Grant</td>\n",
       "      <td>22.86</td>\n",
       "      <td>-5.551115e-17</td>\n",
       "      <td>KS</td>\n",
       "    </tr>\n",
       "    <tr>\n",
       "      <th>2</th>\n",
       "      <td>55.1</td>\n",
       "      <td>1991</td>\n",
       "      <td>Grant</td>\n",
       "      <td>19.19</td>\n",
       "      <td>-2.137500e+00</td>\n",
       "      <td>KS</td>\n",
       "    </tr>\n",
       "    <tr>\n",
       "      <th>3</th>\n",
       "      <td>54.1</td>\n",
       "      <td>1992</td>\n",
       "      <td>Grant</td>\n",
       "      <td>15.69</td>\n",
       "      <td>1.604167e+00</td>\n",
       "      <td>KS</td>\n",
       "    </tr>\n",
       "    <tr>\n",
       "      <th>4</th>\n",
       "      <td>52.4</td>\n",
       "      <td>1993</td>\n",
       "      <td>Grant</td>\n",
       "      <td>23.10</td>\n",
       "      <td>6.265000e+00</td>\n",
       "      <td>KS</td>\n",
       "    </tr>\n",
       "  </tbody>\n",
       "</table>\n",
       "</div>"
      ],
      "text/plain": [
       "   Avg_Temp  Year County Name  Precipitation          PDSI State Abbrv\n",
       "0      53.4  1989       Grant          23.95 -1.267500e+00          KS\n",
       "1      54.9  1990       Grant          22.86 -5.551115e-17          KS\n",
       "2      55.1  1991       Grant          19.19 -2.137500e+00          KS\n",
       "3      54.1  1992       Grant          15.69  1.604167e+00          KS\n",
       "4      52.4  1993       Grant          23.10  6.265000e+00          KS"
      ]
     },
     "execution_count": 16,
     "metadata": {},
     "output_type": "execute_result"
    }
   ],
   "source": [
    "temp_precip_KS = avg_temp_feat_KS.merge(precip_feat_KS, how='inner', on=['Year', 'County Name'])\n",
    "\n",
    "# adding drought to dataframe\n",
    "counties_KS = cycle(['Grant','Gray','Haskell', 'Kearny', 'Morton'])\n",
    "augmented_drought_feat_KS = pd.concat([drought_feat_KS]*5, ignore_index=True).sort_values(by=['Year'])\n",
    "augmented_drought_feat_KS['County Name'] = [next(counties_KS) for county in range(len(augmented_drought_feat_KS))]\n",
    "\n",
    "climate_KS = temp_precip_KS.merge(augmented_drought_feat_KS, how='inner', on=['Year', 'County Name'])\n",
    "climate_KS.head()"
   ]
  },
  {
   "cell_type": "markdown",
   "metadata": {},
   "source": [
    "#### Washington"
   ]
  },
  {
   "cell_type": "code",
   "execution_count": 17,
   "metadata": {},
   "outputs": [],
   "source": [
    "avg_temp_Lincoln = pd.read_csv('Data_KS_WA/WA/WA_Climate/Annual/WA_Lincoln_Avg_Temp_Annual.csv', skiprows=4)\n",
    "avg_temp_Okanogan = pd.read_csv('Data_KS_WA/WA/WA_Climate/Annual/WA_Okanogan_Avg_Temp_Annual.csv', skiprows=4)\n",
    "avg_temp_Skagit = pd.read_csv('Data_KS_WA/WA/WA_Climate/Annual/WA_Skagit_Avg_Temp_Annual.csv', skiprows=4)\n",
    "avg_temp_Spokane = pd.read_csv('Data_KS_WA/WA/WA_Climate/Annual/WA_Spokane_Avg_Temp_Annual.csv', skiprows=4)\n",
    "avg_temp_Whitman = pd.read_csv('Data_KS_WA/WA/WA_Climate/Annual/WA_Whitman_Avg_Temp_Annual.csv', skiprows=4)\n",
    "\n",
    "precip_Lincoln = pd.read_csv('Data_KS_WA/WA/WA_Climate/Annual/WA_Lincoln_Precipitation_Annual.csv', skiprows=4)\n",
    "precip_Okanogan = pd.read_csv('Data_KS_WA/WA/WA_Climate/Annual/WA_Okanogan_Precipitation_Annual.csv', skiprows=4)\n",
    "precip_Skagit = pd.read_csv('Data_KS_WA/WA/WA_Climate/Annual/WA_Skagit_Precipitation_Annual.csv', skiprows=4)\n",
    "precip_Spokane = pd.read_csv('Data_KS_WA/WA/WA_Climate/Annual/WA_Spokane_Precipitation_Annual.csv', skiprows=4)\n",
    "precip_Whitman = pd.read_csv('Data_KS_WA/WA/WA_Climate/Annual/WA_Whitman_Precipitation_Annual.csv', skiprows=4)\n",
    "\n",
    "drought_WA = pd.read_csv('Data_KS_WA/WA/WA_Climate/Annual/WA_PDSI.csv', skiprows=3)"
   ]
  },
  {
   "cell_type": "code",
   "execution_count": 18,
   "metadata": {},
   "outputs": [],
   "source": [
    "avg_temp_feat_Lincoln = get_avg_temp('Lincoln', avg_temp_Lincoln)\n",
    "avg_temp_feat_Okanogan = get_avg_temp('Okanogan', avg_temp_Okanogan)\n",
    "avg_temp_feat_Skagit = get_avg_temp('Skagit', avg_temp_Skagit)\n",
    "avg_temp_feat_Spokane = get_avg_temp('Spokane', avg_temp_Spokane)\n",
    "avg_temp_feat_Whitman = get_avg_temp('Whitman', avg_temp_Whitman)\n",
    "\n",
    "precip_feat_Lincoln = get_precip('Lincoln', precip_Lincoln)\n",
    "precip_feat_Okanogan = get_precip('Okanogan', precip_Okanogan)\n",
    "precip_feat_Skagit = get_precip('Skagit', precip_Skagit)\n",
    "precip_feat_Spokane = get_precip('Spokane', precip_Spokane)\n",
    "precip_feat_Whitman = get_precip('Whitman', precip_Whitman)\n",
    "\n",
    "drought_feat_WA = get_drought('WA', drought_WA)\n",
    "\n",
    "avg_temp_feat_WA = pd.concat([avg_temp_feat_Lincoln, avg_temp_feat_Okanogan, avg_temp_feat_Skagit, avg_temp_feat_Spokane, avg_temp_feat_Whitman])\n",
    "precip_feat_WA = pd.concat([precip_feat_Lincoln, precip_feat_Okanogan, precip_feat_Skagit, precip_feat_Spokane, precip_feat_Whitman])"
   ]
  },
  {
   "cell_type": "code",
   "execution_count": 19,
   "metadata": {},
   "outputs": [
    {
     "data": {
      "text/html": [
       "<div>\n",
       "<style scoped>\n",
       "    .dataframe tbody tr th:only-of-type {\n",
       "        vertical-align: middle;\n",
       "    }\n",
       "\n",
       "    .dataframe tbody tr th {\n",
       "        vertical-align: top;\n",
       "    }\n",
       "\n",
       "    .dataframe thead th {\n",
       "        text-align: right;\n",
       "    }\n",
       "</style>\n",
       "<table border=\"1\" class=\"dataframe\">\n",
       "  <thead>\n",
       "    <tr style=\"text-align: right;\">\n",
       "      <th></th>\n",
       "      <th>Avg_Temp</th>\n",
       "      <th>Year</th>\n",
       "      <th>County Name</th>\n",
       "      <th>Precipitation</th>\n",
       "      <th>PDSI</th>\n",
       "      <th>State Abbrv</th>\n",
       "    </tr>\n",
       "  </thead>\n",
       "  <tbody>\n",
       "    <tr>\n",
       "      <th>0</th>\n",
       "      <td>46.2</td>\n",
       "      <td>1989</td>\n",
       "      <td>Lincoln</td>\n",
       "      <td>11.57</td>\n",
       "      <td>-1.426667</td>\n",
       "      <td>WA</td>\n",
       "    </tr>\n",
       "    <tr>\n",
       "      <th>1</th>\n",
       "      <td>47.8</td>\n",
       "      <td>1990</td>\n",
       "      <td>Lincoln</td>\n",
       "      <td>12.89</td>\n",
       "      <td>1.212500</td>\n",
       "      <td>WA</td>\n",
       "    </tr>\n",
       "    <tr>\n",
       "      <th>2</th>\n",
       "      <td>47.2</td>\n",
       "      <td>1991</td>\n",
       "      <td>Lincoln</td>\n",
       "      <td>12.52</td>\n",
       "      <td>0.696667</td>\n",
       "      <td>WA</td>\n",
       "    </tr>\n",
       "    <tr>\n",
       "      <th>3</th>\n",
       "      <td>48.7</td>\n",
       "      <td>1992</td>\n",
       "      <td>Lincoln</td>\n",
       "      <td>11.46</td>\n",
       "      <td>-2.645833</td>\n",
       "      <td>WA</td>\n",
       "    </tr>\n",
       "    <tr>\n",
       "      <th>4</th>\n",
       "      <td>44.9</td>\n",
       "      <td>1993</td>\n",
       "      <td>Lincoln</td>\n",
       "      <td>13.90</td>\n",
       "      <td>-0.713333</td>\n",
       "      <td>WA</td>\n",
       "    </tr>\n",
       "  </tbody>\n",
       "</table>\n",
       "</div>"
      ],
      "text/plain": [
       "   Avg_Temp  Year County Name  Precipitation      PDSI State Abbrv\n",
       "0      46.2  1989     Lincoln          11.57 -1.426667          WA\n",
       "1      47.8  1990     Lincoln          12.89  1.212500          WA\n",
       "2      47.2  1991     Lincoln          12.52  0.696667          WA\n",
       "3      48.7  1992     Lincoln          11.46 -2.645833          WA\n",
       "4      44.9  1993     Lincoln          13.90 -0.713333          WA"
      ]
     },
     "execution_count": 19,
     "metadata": {},
     "output_type": "execute_result"
    }
   ],
   "source": [
    "temp_precip_WA = avg_temp_feat_WA.merge(precip_feat_WA, how='inner', on=['Year', 'County Name'])\n",
    "\n",
    "# adding drought to dataframe\n",
    "counties_WA = cycle(['Lincoln','Okanogan','Skagit', 'Spokane', 'Whitman'])\n",
    "augmented_drought_feat_WA = pd.concat([drought_feat_WA]*5, ignore_index=True).sort_values(by=['Year'])\n",
    "augmented_drought_feat_WA['County Name'] = [next(counties_WA) for county in range(len(augmented_drought_feat_WA))]\n",
    "\n",
    "climate_WA = temp_precip_WA.merge(augmented_drought_feat_WA, how='inner', on=['Year', 'County Name'])\n",
    "climate_WA.head()"
   ]
  },
  {
   "cell_type": "markdown",
   "metadata": {},
   "source": [
    "### Agricultural Yield\n",
    "• For each county, selecting feature and target columns, from 1989-2018  \n",
    "• Merging cause of loss and climate data features by county name into agricultural yield dataset"
   ]
  },
  {
   "cell_type": "markdown",
   "metadata": {},
   "source": [
    "#### Kansas"
   ]
  },
  {
   "cell_type": "code",
   "execution_count": 20,
   "metadata": {},
   "outputs": [
    {
     "name": "stdout",
     "output_type": "stream",
     "text": [
      "(120, 3)\n"
     ]
    },
    {
     "data": {
      "text/html": [
       "<div>\n",
       "<style scoped>\n",
       "    .dataframe tbody tr th:only-of-type {\n",
       "        vertical-align: middle;\n",
       "    }\n",
       "\n",
       "    .dataframe tbody tr th {\n",
       "        vertical-align: top;\n",
       "    }\n",
       "\n",
       "    .dataframe thead th {\n",
       "        text-align: right;\n",
       "    }\n",
       "</style>\n",
       "<table border=\"1\" class=\"dataframe\">\n",
       "  <thead>\n",
       "    <tr style=\"text-align: right;\">\n",
       "      <th></th>\n",
       "      <th>Year</th>\n",
       "      <th>County Name</th>\n",
       "      <th>Bushels</th>\n",
       "    </tr>\n",
       "  </thead>\n",
       "  <tbody>\n",
       "    <tr>\n",
       "      <th>0</th>\n",
       "      <td>2017</td>\n",
       "      <td>Grant</td>\n",
       "      <td>2692012</td>\n",
       "    </tr>\n",
       "    <tr>\n",
       "      <th>1</th>\n",
       "      <td>2017</td>\n",
       "      <td>Gray</td>\n",
       "      <td>5193430</td>\n",
       "    </tr>\n",
       "    <tr>\n",
       "      <th>2</th>\n",
       "      <td>2017</td>\n",
       "      <td>Haskell</td>\n",
       "      <td>2536394</td>\n",
       "    </tr>\n",
       "    <tr>\n",
       "      <th>3</th>\n",
       "      <td>2017</td>\n",
       "      <td>Kearny</td>\n",
       "      <td>3791619</td>\n",
       "    </tr>\n",
       "    <tr>\n",
       "      <th>4</th>\n",
       "      <td>2017</td>\n",
       "      <td>Morton</td>\n",
       "      <td>2400827</td>\n",
       "    </tr>\n",
       "    <tr>\n",
       "      <th>5</th>\n",
       "      <td>2012</td>\n",
       "      <td>Grant</td>\n",
       "      <td>3611469</td>\n",
       "    </tr>\n",
       "    <tr>\n",
       "      <th>6</th>\n",
       "      <td>2012</td>\n",
       "      <td>Gray</td>\n",
       "      <td>3618260</td>\n",
       "    </tr>\n",
       "    <tr>\n",
       "      <th>7</th>\n",
       "      <td>2012</td>\n",
       "      <td>Haskell</td>\n",
       "      <td>2444265</td>\n",
       "    </tr>\n",
       "    <tr>\n",
       "      <th>8</th>\n",
       "      <td>2012</td>\n",
       "      <td>Kearny</td>\n",
       "      <td>3769675</td>\n",
       "    </tr>\n",
       "    <tr>\n",
       "      <th>9</th>\n",
       "      <td>2012</td>\n",
       "      <td>Morton</td>\n",
       "      <td>3737346</td>\n",
       "    </tr>\n",
       "  </tbody>\n",
       "</table>\n",
       "</div>"
      ],
      "text/plain": [
       "   Year County Name  Bushels\n",
       "0  2017       Grant  2692012\n",
       "1  2017        Gray  5193430\n",
       "2  2017     Haskell  2536394\n",
       "3  2017      Kearny  3791619\n",
       "4  2017      Morton  2400827\n",
       "5  2012       Grant  3611469\n",
       "6  2012        Gray  3618260\n",
       "7  2012     Haskell  2444265\n",
       "8  2012      Kearny  3769675\n",
       "9  2012      Morton  3737346"
      ]
     },
     "execution_count": 20,
     "metadata": {},
     "output_type": "execute_result"
    }
   ],
   "source": [
    "df_production_KS = pd.read_csv(\"Data_KS_WA/KS/KS_Agriculture/KS_County_Production_Bushels.csv\")\n",
    "df_production_KS_select = df_production_KS.copy()[['Year', 'County','Value']]\n",
    "df_production_KS_select.rename(columns={'Value':'Bushels'}, inplace=True)\n",
    "pd.to_numeric(df_production_KS_select['Year'], downcast='integer')\n",
    "df_production_KS_select['County'] = df_production_KS_select['County'].str.capitalize() \n",
    "df_production_KS_select = df_production_KS_select.rename(columns={'County': 'County Name'})\n",
    "df_production_KS_select['Bushels'] = df_production_KS_select['Bushels'].str.replace(\",\",\"\").astype(int)\n",
    "\n",
    "print(df_production_KS_select.shape)\n",
    "df_production_KS_select.head(10)"
   ]
  },
  {
   "cell_type": "code",
   "execution_count": 21,
   "metadata": {},
   "outputs": [
    {
     "name": "stdout",
     "output_type": "stream",
     "text": [
      "(120, 7)\n"
     ]
    },
    {
     "data": {
      "text/html": [
       "<div>\n",
       "<style scoped>\n",
       "    .dataframe tbody tr th:only-of-type {\n",
       "        vertical-align: middle;\n",
       "    }\n",
       "\n",
       "    .dataframe tbody tr th {\n",
       "        vertical-align: top;\n",
       "    }\n",
       "\n",
       "    .dataframe thead th {\n",
       "        text-align: right;\n",
       "    }\n",
       "</style>\n",
       "<table border=\"1\" class=\"dataframe\">\n",
       "  <thead>\n",
       "    <tr style=\"text-align: right;\">\n",
       "      <th></th>\n",
       "      <th>Avg_Temp</th>\n",
       "      <th>Year</th>\n",
       "      <th>County Name</th>\n",
       "      <th>Precipitation</th>\n",
       "      <th>PDSI</th>\n",
       "      <th>State Abbrv</th>\n",
       "      <th>Bushels</th>\n",
       "    </tr>\n",
       "  </thead>\n",
       "  <tbody>\n",
       "    <tr>\n",
       "      <th>0</th>\n",
       "      <td>53.4</td>\n",
       "      <td>1989</td>\n",
       "      <td>Grant</td>\n",
       "      <td>23.95</td>\n",
       "      <td>-1.267500e+00</td>\n",
       "      <td>KS</td>\n",
       "      <td>3965600</td>\n",
       "    </tr>\n",
       "    <tr>\n",
       "      <th>1</th>\n",
       "      <td>54.9</td>\n",
       "      <td>1990</td>\n",
       "      <td>Grant</td>\n",
       "      <td>22.86</td>\n",
       "      <td>-5.551115e-17</td>\n",
       "      <td>KS</td>\n",
       "      <td>4737300</td>\n",
       "    </tr>\n",
       "    <tr>\n",
       "      <th>2</th>\n",
       "      <td>55.1</td>\n",
       "      <td>1991</td>\n",
       "      <td>Grant</td>\n",
       "      <td>19.19</td>\n",
       "      <td>-2.137500e+00</td>\n",
       "      <td>KS</td>\n",
       "      <td>4480000</td>\n",
       "    </tr>\n",
       "    <tr>\n",
       "      <th>3</th>\n",
       "      <td>54.1</td>\n",
       "      <td>1992</td>\n",
       "      <td>Grant</td>\n",
       "      <td>15.69</td>\n",
       "      <td>1.604167e+00</td>\n",
       "      <td>KS</td>\n",
       "      <td>4640000</td>\n",
       "    </tr>\n",
       "    <tr>\n",
       "      <th>4</th>\n",
       "      <td>52.4</td>\n",
       "      <td>1993</td>\n",
       "      <td>Grant</td>\n",
       "      <td>23.10</td>\n",
       "      <td>6.265000e+00</td>\n",
       "      <td>KS</td>\n",
       "      <td>6466500</td>\n",
       "    </tr>\n",
       "  </tbody>\n",
       "</table>\n",
       "</div>"
      ],
      "text/plain": [
       "   Avg_Temp  Year County Name  Precipitation          PDSI State Abbrv  \\\n",
       "0      53.4  1989       Grant          23.95 -1.267500e+00          KS   \n",
       "1      54.9  1990       Grant          22.86 -5.551115e-17          KS   \n",
       "2      55.1  1991       Grant          19.19 -2.137500e+00          KS   \n",
       "3      54.1  1992       Grant          15.69  1.604167e+00          KS   \n",
       "4      52.4  1993       Grant          23.10  6.265000e+00          KS   \n",
       "\n",
       "   Bushels  \n",
       "0  3965600  \n",
       "1  4737300  \n",
       "2  4480000  \n",
       "3  4640000  \n",
       "4  6466500  "
      ]
     },
     "execution_count": 21,
     "metadata": {},
     "output_type": "execute_result"
    }
   ],
   "source": [
    "# merging\n",
    "agri_climate_KS = climate_KS.merge(df_production_KS_select, how='inner', on=['Year', 'County Name'])\n",
    "print(agri_climate_KS.shape)\n",
    "agri_climate_KS.head()"
   ]
  },
  {
   "cell_type": "markdown",
   "metadata": {},
   "source": [
    "#### Washington"
   ]
  },
  {
   "cell_type": "code",
   "execution_count": 22,
   "metadata": {},
   "outputs": [
    {
     "name": "stdout",
     "output_type": "stream",
     "text": [
      "(104, 3)\n"
     ]
    },
    {
     "data": {
      "text/html": [
       "<div>\n",
       "<style scoped>\n",
       "    .dataframe tbody tr th:only-of-type {\n",
       "        vertical-align: middle;\n",
       "    }\n",
       "\n",
       "    .dataframe tbody tr th {\n",
       "        vertical-align: top;\n",
       "    }\n",
       "\n",
       "    .dataframe thead th {\n",
       "        text-align: right;\n",
       "    }\n",
       "</style>\n",
       "<table border=\"1\" class=\"dataframe\">\n",
       "  <thead>\n",
       "    <tr style=\"text-align: right;\">\n",
       "      <th></th>\n",
       "      <th>Year</th>\n",
       "      <th>County Name</th>\n",
       "      <th>Bushels</th>\n",
       "    </tr>\n",
       "  </thead>\n",
       "  <tbody>\n",
       "    <tr>\n",
       "      <th>0</th>\n",
       "      <td>2017</td>\n",
       "      <td>Okanogan</td>\n",
       "      <td>325232</td>\n",
       "    </tr>\n",
       "    <tr>\n",
       "      <th>1</th>\n",
       "      <td>2017</td>\n",
       "      <td>Lincoln</td>\n",
       "      <td>21544831</td>\n",
       "    </tr>\n",
       "    <tr>\n",
       "      <th>2</th>\n",
       "      <td>2017</td>\n",
       "      <td>Spokane</td>\n",
       "      <td>7141746</td>\n",
       "    </tr>\n",
       "    <tr>\n",
       "      <th>3</th>\n",
       "      <td>2017</td>\n",
       "      <td>Whitman</td>\n",
       "      <td>37682051</td>\n",
       "    </tr>\n",
       "    <tr>\n",
       "      <th>4</th>\n",
       "      <td>2017</td>\n",
       "      <td>Skagit</td>\n",
       "      <td>269588</td>\n",
       "    </tr>\n",
       "    <tr>\n",
       "      <th>5</th>\n",
       "      <td>2012</td>\n",
       "      <td>Okanogan</td>\n",
       "      <td>553194</td>\n",
       "    </tr>\n",
       "    <tr>\n",
       "      <th>6</th>\n",
       "      <td>2012</td>\n",
       "      <td>Lincoln</td>\n",
       "      <td>19744297</td>\n",
       "    </tr>\n",
       "    <tr>\n",
       "      <th>7</th>\n",
       "      <td>2012</td>\n",
       "      <td>Spokane</td>\n",
       "      <td>9860319</td>\n",
       "    </tr>\n",
       "    <tr>\n",
       "      <th>8</th>\n",
       "      <td>2012</td>\n",
       "      <td>Whitman</td>\n",
       "      <td>32943471</td>\n",
       "    </tr>\n",
       "    <tr>\n",
       "      <th>9</th>\n",
       "      <td>2012</td>\n",
       "      <td>Skagit</td>\n",
       "      <td>498776</td>\n",
       "    </tr>\n",
       "  </tbody>\n",
       "</table>\n",
       "</div>"
      ],
      "text/plain": [
       "   Year County Name   Bushels\n",
       "0  2017    Okanogan    325232\n",
       "1  2017     Lincoln  21544831\n",
       "2  2017     Spokane   7141746\n",
       "3  2017     Whitman  37682051\n",
       "4  2017      Skagit    269588\n",
       "5  2012    Okanogan    553194\n",
       "6  2012     Lincoln  19744297\n",
       "7  2012     Spokane   9860319\n",
       "8  2012     Whitman  32943471\n",
       "9  2012      Skagit    498776"
      ]
     },
     "execution_count": 22,
     "metadata": {},
     "output_type": "execute_result"
    }
   ],
   "source": [
    "df_production_WA = pd.read_csv(\"Data_KS_WA/WA/WA_Agriculture/WA_County_Production_Bushels.csv\")\n",
    "df_production_WA_select = df_production_WA.copy()[['Year', 'County','Value']]\n",
    "df_production_WA_select.rename(columns={'Value':'Bushels'}, inplace=True)\n",
    "pd.to_numeric(df_production_WA_select['Year'], downcast='integer')\n",
    "df_production_WA_select['County'] = df_production_WA_select['County'].str.capitalize() \n",
    "df_production_WA_select = df_production_WA_select.rename(columns={'County': 'County Name'})\n",
    "df_production_WA_select['Bushels'] = df_production_WA_select['Bushels'].str.replace(\",\",\"\").astype(int)\n",
    "\n",
    "print(df_production_WA_select.shape)\n",
    "df_production_WA_select.head(10)"
   ]
  },
  {
   "cell_type": "code",
   "execution_count": 23,
   "metadata": {},
   "outputs": [
    {
     "name": "stdout",
     "output_type": "stream",
     "text": [
      "(104, 7)\n"
     ]
    },
    {
     "data": {
      "text/html": [
       "<div>\n",
       "<style scoped>\n",
       "    .dataframe tbody tr th:only-of-type {\n",
       "        vertical-align: middle;\n",
       "    }\n",
       "\n",
       "    .dataframe tbody tr th {\n",
       "        vertical-align: top;\n",
       "    }\n",
       "\n",
       "    .dataframe thead th {\n",
       "        text-align: right;\n",
       "    }\n",
       "</style>\n",
       "<table border=\"1\" class=\"dataframe\">\n",
       "  <thead>\n",
       "    <tr style=\"text-align: right;\">\n",
       "      <th></th>\n",
       "      <th>Avg_Temp</th>\n",
       "      <th>Year</th>\n",
       "      <th>County Name</th>\n",
       "      <th>Precipitation</th>\n",
       "      <th>PDSI</th>\n",
       "      <th>State Abbrv</th>\n",
       "      <th>Bushels</th>\n",
       "    </tr>\n",
       "  </thead>\n",
       "  <tbody>\n",
       "    <tr>\n",
       "      <th>0</th>\n",
       "      <td>46.2</td>\n",
       "      <td>1989</td>\n",
       "      <td>Lincoln</td>\n",
       "      <td>11.57</td>\n",
       "      <td>-1.426667</td>\n",
       "      <td>WA</td>\n",
       "      <td>13935000</td>\n",
       "    </tr>\n",
       "    <tr>\n",
       "      <th>1</th>\n",
       "      <td>47.8</td>\n",
       "      <td>1990</td>\n",
       "      <td>Lincoln</td>\n",
       "      <td>12.89</td>\n",
       "      <td>1.212500</td>\n",
       "      <td>WA</td>\n",
       "      <td>21663000</td>\n",
       "    </tr>\n",
       "    <tr>\n",
       "      <th>2</th>\n",
       "      <td>47.2</td>\n",
       "      <td>1991</td>\n",
       "      <td>Lincoln</td>\n",
       "      <td>12.52</td>\n",
       "      <td>0.696667</td>\n",
       "      <td>WA</td>\n",
       "      <td>14899000</td>\n",
       "    </tr>\n",
       "    <tr>\n",
       "      <th>3</th>\n",
       "      <td>48.7</td>\n",
       "      <td>1992</td>\n",
       "      <td>Lincoln</td>\n",
       "      <td>11.46</td>\n",
       "      <td>-2.645833</td>\n",
       "      <td>WA</td>\n",
       "      <td>18292000</td>\n",
       "    </tr>\n",
       "    <tr>\n",
       "      <th>4</th>\n",
       "      <td>44.9</td>\n",
       "      <td>1993</td>\n",
       "      <td>Lincoln</td>\n",
       "      <td>13.90</td>\n",
       "      <td>-0.713333</td>\n",
       "      <td>WA</td>\n",
       "      <td>27194000</td>\n",
       "    </tr>\n",
       "  </tbody>\n",
       "</table>\n",
       "</div>"
      ],
      "text/plain": [
       "   Avg_Temp  Year County Name  Precipitation      PDSI State Abbrv   Bushels\n",
       "0      46.2  1989     Lincoln          11.57 -1.426667          WA  13935000\n",
       "1      47.8  1990     Lincoln          12.89  1.212500          WA  21663000\n",
       "2      47.2  1991     Lincoln          12.52  0.696667          WA  14899000\n",
       "3      48.7  1992     Lincoln          11.46 -2.645833          WA  18292000\n",
       "4      44.9  1993     Lincoln          13.90 -0.713333          WA  27194000"
      ]
     },
     "execution_count": 23,
     "metadata": {},
     "output_type": "execute_result"
    }
   ],
   "source": [
    "# merging\n",
    "agri_climate_WA = climate_WA.merge(df_production_WA_select, how='inner', on=['Year', 'County Name'])\n",
    "print(agri_climate_WA.shape)\n",
    "agri_climate_WA.head()"
   ]
  },
  {
   "cell_type": "markdown",
   "metadata": {},
   "source": [
    "### Linear and Polynomial Regressions\n",
    "Understanding how climate affects agriculture"
   ]
  },
  {
   "cell_type": "markdown",
   "metadata": {},
   "source": [
    "#### Kansas"
   ]
  },
  {
   "cell_type": "code",
   "execution_count": 24,
   "metadata": {},
   "outputs": [
    {
     "data": {
      "text/html": [
       "<div>\n",
       "<style scoped>\n",
       "    .dataframe tbody tr th:only-of-type {\n",
       "        vertical-align: middle;\n",
       "    }\n",
       "\n",
       "    .dataframe tbody tr th {\n",
       "        vertical-align: top;\n",
       "    }\n",
       "\n",
       "    .dataframe thead th {\n",
       "        text-align: right;\n",
       "    }\n",
       "</style>\n",
       "<table border=\"1\" class=\"dataframe\">\n",
       "  <thead>\n",
       "    <tr style=\"text-align: right;\">\n",
       "      <th></th>\n",
       "      <th>County</th>\n",
       "      <th>Year</th>\n",
       "      <th>Average Temperature</th>\n",
       "      <th>Precipitation</th>\n",
       "      <th>PDSI</th>\n",
       "      <th>Bushels</th>\n",
       "    </tr>\n",
       "  </thead>\n",
       "  <tbody>\n",
       "    <tr>\n",
       "      <th>0</th>\n",
       "      <td>1</td>\n",
       "      <td>1989</td>\n",
       "      <td>53.4</td>\n",
       "      <td>23.95</td>\n",
       "      <td>-1.267500e+00</td>\n",
       "      <td>3965600</td>\n",
       "    </tr>\n",
       "    <tr>\n",
       "      <th>1</th>\n",
       "      <td>1</td>\n",
       "      <td>1990</td>\n",
       "      <td>54.9</td>\n",
       "      <td>22.86</td>\n",
       "      <td>-5.551115e-17</td>\n",
       "      <td>4737300</td>\n",
       "    </tr>\n",
       "    <tr>\n",
       "      <th>2</th>\n",
       "      <td>1</td>\n",
       "      <td>1991</td>\n",
       "      <td>55.1</td>\n",
       "      <td>19.19</td>\n",
       "      <td>-2.137500e+00</td>\n",
       "      <td>4480000</td>\n",
       "    </tr>\n",
       "    <tr>\n",
       "      <th>3</th>\n",
       "      <td>1</td>\n",
       "      <td>1992</td>\n",
       "      <td>54.1</td>\n",
       "      <td>15.69</td>\n",
       "      <td>1.604167e+00</td>\n",
       "      <td>4640000</td>\n",
       "    </tr>\n",
       "    <tr>\n",
       "      <th>4</th>\n",
       "      <td>1</td>\n",
       "      <td>1993</td>\n",
       "      <td>52.4</td>\n",
       "      <td>23.10</td>\n",
       "      <td>6.265000e+00</td>\n",
       "      <td>6466500</td>\n",
       "    </tr>\n",
       "  </tbody>\n",
       "</table>\n",
       "</div>"
      ],
      "text/plain": [
       "   County  Year  Average Temperature  Precipitation          PDSI  Bushels\n",
       "0       1  1989                 53.4          23.95 -1.267500e+00  3965600\n",
       "1       1  1990                 54.9          22.86 -5.551115e-17  4737300\n",
       "2       1  1991                 55.1          19.19 -2.137500e+00  4480000\n",
       "3       1  1992                 54.1          15.69  1.604167e+00  4640000\n",
       "4       1  1993                 52.4          23.10  6.265000e+00  6466500"
      ]
     },
     "execution_count": 24,
     "metadata": {},
     "output_type": "execute_result"
    }
   ],
   "source": [
    "agri_climate_rearranged_KS = agri_climate_KS[['County Name', 'Year', 'Avg_Temp', 'Precipitation', 'PDSI', 'Bushels']]\n",
    "agri_climate_rearranged_KS.rename(columns={'County Name':'County', 'Avg_Temp':'Average Temperature'}, inplace=True)\n",
    "agri_climate_rearranged_KS['County'] = agri_climate_rearranged_KS['County'].map({'Grant': 1, 'Gray': 2, 'Haskell': 3, 'Kearny': 4, 'Morton': 5})\n",
    "agri_climate_rearranged_KS.head()"
   ]
  },
  {
   "cell_type": "code",
   "execution_count": 25,
   "metadata": {},
   "outputs": [
    {
     "name": "stdout",
     "output_type": "stream",
     "text": [
      "                      coefficients\n",
      "County              -312993.965900\n",
      "Average Temperature   44118.683936\n",
      "Precipitation         57390.522089\n",
      "PDSI                 302436.165750\n",
      "intercept: 1277427.9673849703\n",
      "--------------------------------------\n",
      "Model performance for training set (KS)\n",
      "RMSE is 1340222.6648187567\n",
      "R2 score is 0.28886605525041187\n",
      "--------------------------------------\n",
      "Model performance for testing set (KS)\n",
      "RMSE is 1716179.3686684782\n",
      "R2 score is 0.32031284185774267\n"
     ]
    }
   ],
   "source": [
    "X = agri_climate_rearranged_KS[['County', 'Average Temperature', 'Precipitation', 'PDSI']]\n",
    "Y = agri_climate_rearranged_KS['Bushels']\n",
    "X_train, X_test, Y_train, Y_test = train_test_split(X, Y, test_size = 0.2, random_state=5)\n",
    "lin_model = LinearRegression()\n",
    "lin_model.fit(X_train, Y_train)\n",
    "\n",
    "# model evaluation for training set\n",
    "y_train_predict = lin_model.predict(X_train)\n",
    "rmse = (np.sqrt(mean_squared_error(Y_train, y_train_predict)))\n",
    "r2 = r2_score(Y_train, y_train_predict)\n",
    "\n",
    "cdf = pd.DataFrame(lin_model.coef_.T, X.columns, columns=['coefficients'])\n",
    "print(cdf)\n",
    "#print('coefficients:', lin_model.coef_)\n",
    "print('intercept:', lin_model.intercept_)\n",
    "print(\"--------------------------------------\")\n",
    "\n",
    "print(\"Model performance for training set (KS)\")\n",
    "print('RMSE is {}'.format(rmse))\n",
    "print('R2 score is {}'.format(r2))\n",
    "\n",
    "print(\"--------------------------------------\")\n",
    "\n",
    "# model evaluation for testing set\n",
    "y_test_predict = lin_model.predict(X_test)\n",
    "rmse = (np.sqrt(mean_squared_error(Y_test, y_test_predict)))\n",
    "r2 = r2_score(Y_test, y_test_predict)\n",
    "\n",
    "print(\"Model performance for testing set (KS)\")\n",
    "print('RMSE is {}'.format(rmse))\n",
    "print('R2 score is {}'.format(r2))"
   ]
  },
  {
   "cell_type": "code",
   "execution_count": 26,
   "metadata": {},
   "outputs": [],
   "source": [
    "def create_polynomial_regression_model(degree):\n",
    "    \"Creates a polynomial regression model for the given degree\"\n",
    "    poly_features = PolynomialFeatures(degree=degree)\n",
    "\n",
    "    # transform the features to higher degree features.\n",
    "    X_train_poly = poly_features.fit_transform(X_train)\n",
    "\n",
    "    # fit the transformed features to Linear Regression\n",
    "    poly_model = LinearRegression()\n",
    "    poly_model.fit(X_train_poly, Y_train)\n",
    "\n",
    "    # predicting on training data-set\n",
    "    y_train_predicted = poly_model.predict(X_train_poly)\n",
    "\n",
    "    # predicting on test data-set\n",
    "    y_test_predict = poly_model.predict(poly_features.fit_transform(X_test))\n",
    "\n",
    "    # evaluating the model on training dataset\n",
    "    rmse_train = np.sqrt(mean_squared_error(Y_train, y_train_predicted))\n",
    "    r2_train = r2_score(Y_train, y_train_predicted)\n",
    "\n",
    "    # evaluating the model on test dataset\n",
    "    rmse_test = np.sqrt(mean_squared_error(Y_test, y_test_predict))\n",
    "    r2_test = r2_score(Y_test, y_test_predict)\n",
    "\n",
    "    print(\"Polynomial model performance for the training set (KS)\")\n",
    "    print(\"-------------------------------------------\")\n",
    "    print(\"RMSE of training set is {}\".format(rmse_train))\n",
    "    print(\"R2 score of training set is {}\".format(r2_train))\n",
    "\n",
    "    print(\"\\n\")\n",
    "\n",
    "    print(\"Polynomial model performance for the test set (KS)\")\n",
    "    print(\"-------------------------------------------\")\n",
    "    print(\"RMSE of test set is {}\".format(rmse_test))\n",
    "    print(\"R2 score of test set is {}\".format(r2_test))"
   ]
  },
  {
   "cell_type": "code",
   "execution_count": 27,
   "metadata": {},
   "outputs": [
    {
     "name": "stdout",
     "output_type": "stream",
     "text": [
      "Polynomial model performance for the training set (KS)\n",
      "-------------------------------------------\n",
      "RMSE of training set is 1157499.5996378139\n",
      "R2 score of training set is 0.4695564265148582\n",
      "\n",
      "\n",
      "Polynomial model performance for the test set (KS)\n",
      "-------------------------------------------\n",
      "RMSE of test set is 1434512.3446062347\n",
      "R2 score of test set is 0.5251108022243065\n"
     ]
    }
   ],
   "source": [
    "create_polynomial_regression_model(2)"
   ]
  },
  {
   "cell_type": "code",
   "execution_count": 28,
   "metadata": {},
   "outputs": [
    {
     "name": "stdout",
     "output_type": "stream",
     "text": [
      "Polynomial model performance for the training set (KS)\n",
      "-------------------------------------------\n",
      "RMSE of training set is 1077937.2629938086\n",
      "R2 score of training set is 0.539971790854805\n",
      "\n",
      "\n",
      "Polynomial model performance for the test set (KS)\n",
      "-------------------------------------------\n",
      "RMSE of test set is 1736322.5695292768\n",
      "R2 score of test set is 0.30426391027908173\n"
     ]
    }
   ],
   "source": [
    "create_polynomial_regression_model(3)"
   ]
  },
  {
   "cell_type": "markdown",
   "metadata": {},
   "source": [
    "#### Washington "
   ]
  },
  {
   "cell_type": "code",
   "execution_count": 29,
   "metadata": {},
   "outputs": [
    {
     "data": {
      "text/html": [
       "<div>\n",
       "<style scoped>\n",
       "    .dataframe tbody tr th:only-of-type {\n",
       "        vertical-align: middle;\n",
       "    }\n",
       "\n",
       "    .dataframe tbody tr th {\n",
       "        vertical-align: top;\n",
       "    }\n",
       "\n",
       "    .dataframe thead th {\n",
       "        text-align: right;\n",
       "    }\n",
       "</style>\n",
       "<table border=\"1\" class=\"dataframe\">\n",
       "  <thead>\n",
       "    <tr style=\"text-align: right;\">\n",
       "      <th></th>\n",
       "      <th>County</th>\n",
       "      <th>Year</th>\n",
       "      <th>Average Temperature</th>\n",
       "      <th>Precipitation</th>\n",
       "      <th>PDSI</th>\n",
       "      <th>Bushels</th>\n",
       "    </tr>\n",
       "  </thead>\n",
       "  <tbody>\n",
       "    <tr>\n",
       "      <th>0</th>\n",
       "      <td>1</td>\n",
       "      <td>1989</td>\n",
       "      <td>46.2</td>\n",
       "      <td>11.57</td>\n",
       "      <td>-1.426667</td>\n",
       "      <td>13935000</td>\n",
       "    </tr>\n",
       "    <tr>\n",
       "      <th>1</th>\n",
       "      <td>1</td>\n",
       "      <td>1990</td>\n",
       "      <td>47.8</td>\n",
       "      <td>12.89</td>\n",
       "      <td>1.212500</td>\n",
       "      <td>21663000</td>\n",
       "    </tr>\n",
       "    <tr>\n",
       "      <th>2</th>\n",
       "      <td>1</td>\n",
       "      <td>1991</td>\n",
       "      <td>47.2</td>\n",
       "      <td>12.52</td>\n",
       "      <td>0.696667</td>\n",
       "      <td>14899000</td>\n",
       "    </tr>\n",
       "    <tr>\n",
       "      <th>3</th>\n",
       "      <td>1</td>\n",
       "      <td>1992</td>\n",
       "      <td>48.7</td>\n",
       "      <td>11.46</td>\n",
       "      <td>-2.645833</td>\n",
       "      <td>18292000</td>\n",
       "    </tr>\n",
       "    <tr>\n",
       "      <th>4</th>\n",
       "      <td>1</td>\n",
       "      <td>1993</td>\n",
       "      <td>44.9</td>\n",
       "      <td>13.90</td>\n",
       "      <td>-0.713333</td>\n",
       "      <td>27194000</td>\n",
       "    </tr>\n",
       "  </tbody>\n",
       "</table>\n",
       "</div>"
      ],
      "text/plain": [
       "   County  Year  Average Temperature  Precipitation      PDSI   Bushels\n",
       "0       1  1989                 46.2          11.57 -1.426667  13935000\n",
       "1       1  1990                 47.8          12.89  1.212500  21663000\n",
       "2       1  1991                 47.2          12.52  0.696667  14899000\n",
       "3       1  1992                 48.7          11.46 -2.645833  18292000\n",
       "4       1  1993                 44.9          13.90 -0.713333  27194000"
      ]
     },
     "execution_count": 29,
     "metadata": {},
     "output_type": "execute_result"
    }
   ],
   "source": [
    "agri_climate_rearranged_WA = agri_climate_WA[['County Name', 'Year', 'Avg_Temp', 'Precipitation', 'PDSI', 'Bushels']]\n",
    "agri_climate_rearranged_WA.rename(columns={'County Name':'County', 'Avg_Temp':'Average Temperature'}, inplace=True)\n",
    "agri_climate_rearranged_WA['County'] = agri_climate_rearranged_WA['County'].map({'Lincoln': 1, 'Okanogan': 2, 'Skagit': 3, 'Spokane': 4, 'Whitman': 5})\n",
    "agri_climate_rearranged_WA.head()"
   ]
  },
  {
   "cell_type": "code",
   "execution_count": 30,
   "metadata": {},
   "outputs": [
    {
     "name": "stdout",
     "output_type": "stream",
     "text": [
      "                     coefficients\n",
      "County              -4.562069e+05\n",
      "Average Temperature  4.276553e+06\n",
      "Precipitation       -2.076933e+05\n",
      "PDSI                 1.515020e+06\n",
      "intercept: -178144552.02495998\n",
      "--------------------------------------\n",
      "Model performance for training set (WA)\n",
      "RMSE is 7112020.404779848\n",
      "R2 score is 0.7093306734127662\n",
      "--------------------------------------\n",
      "Model performance for testing set (WA)\n",
      "RMSE is 8108584.3584748125\n",
      "R2 score is 0.5622688613053786\n"
     ]
    }
   ],
   "source": [
    "X = agri_climate_rearranged_WA[['County', 'Average Temperature', 'Precipitation', 'PDSI']]\n",
    "Y = agri_climate_rearranged_WA['Bushels']\n",
    "X_train, X_test, Y_train, Y_test = train_test_split(X, Y, test_size = 0.2, random_state=5)\n",
    "lin_model = LinearRegression()\n",
    "lin_model.fit(X_train, Y_train)\n",
    "\n",
    "# model evaluation for training set\n",
    "y_train_predict = lin_model.predict(X_train)\n",
    "rmse = (np.sqrt(mean_squared_error(Y_train, y_train_predict)))\n",
    "r2 = r2_score(Y_train, y_train_predict)\n",
    "\n",
    "cdf = pd.DataFrame(lin_model.coef_.T, X.columns, columns=['coefficients'])\n",
    "print(cdf)\n",
    "#print('coefficients:', lin_model.coef_)\n",
    "print('intercept:', lin_model.intercept_)\n",
    "print(\"--------------------------------------\")\n",
    "\n",
    "print(\"Model performance for training set (WA)\")\n",
    "print('RMSE is {}'.format(rmse))\n",
    "print('R2 score is {}'.format(r2))\n",
    "\n",
    "print(\"--------------------------------------\")\n",
    "\n",
    "# model evaluation for testing set\n",
    "y_test_predict = lin_model.predict(X_test)\n",
    "rmse = (np.sqrt(mean_squared_error(Y_test, y_test_predict)))\n",
    "r2 = r2_score(Y_test, y_test_predict)\n",
    "\n",
    "print(\"Model performance for testing set (WA)\")\n",
    "print('RMSE is {}'.format(rmse))\n",
    "print('R2 score is {}'.format(r2))"
   ]
  },
  {
   "cell_type": "code",
   "execution_count": 31,
   "metadata": {},
   "outputs": [],
   "source": [
    "def create_polynomial_regression_model(degree):\n",
    "    \"Creates a polynomial regression model for the given degree\"\n",
    "    poly_features = PolynomialFeatures(degree=degree)\n",
    "\n",
    "    # transform the features to higher degree features.\n",
    "    X_train_poly = poly_features.fit_transform(X_train)\n",
    "\n",
    "    # fit the transformed features to Linear Regression\n",
    "    poly_model = LinearRegression()\n",
    "    poly_model.fit(X_train_poly, Y_train)\n",
    "\n",
    "    # predicting on training data-set\n",
    "    y_train_predicted = poly_model.predict(X_train_poly)\n",
    "\n",
    "    # predicting on test data-set\n",
    "    y_test_predict = poly_model.predict(poly_features.fit_transform(X_test))\n",
    "\n",
    "    # evaluating the model on training dataset\n",
    "    rmse_train = np.sqrt(mean_squared_error(Y_train, y_train_predicted))\n",
    "    r2_train = r2_score(Y_train, y_train_predicted)\n",
    "\n",
    "    # evaluating the model on test dataset\n",
    "    rmse_test = np.sqrt(mean_squared_error(Y_test, y_test_predict))\n",
    "    r2_test = r2_score(Y_test, y_test_predict)\n",
    "\n",
    "    print(\"Polynomial model performance for the training set (WA)\")\n",
    "    print(\"-------------------------------------------\")\n",
    "    print(\"RMSE of training set is {}\".format(rmse_train))\n",
    "    print(\"R2 score of training set is {}\".format(r2_train))\n",
    "\n",
    "    print(\"\\n\")\n",
    "\n",
    "    print(\"Polynomial model performance for the test set (WA)\")\n",
    "    print(\"-------------------------------------------\")\n",
    "    print(\"RMSE of test set is {}\".format(rmse_test))\n",
    "    print(\"R2 score of test set is {}\".format(r2_test))"
   ]
  },
  {
   "cell_type": "code",
   "execution_count": 32,
   "metadata": {},
   "outputs": [
    {
     "name": "stdout",
     "output_type": "stream",
     "text": [
      "Polynomial model performance for the training set (WA)\n",
      "-------------------------------------------\n",
      "RMSE of training set is 2674095.303463382\n",
      "R2 score of training set is 0.9589070822382173\n",
      "\n",
      "\n",
      "Polynomial model performance for the test set (WA)\n",
      "-------------------------------------------\n",
      "RMSE of test set is 2137760.742900987\n",
      "R2 score of test set is 0.9695746517075183\n"
     ]
    }
   ],
   "source": [
    "create_polynomial_regression_model(2)"
   ]
  },
  {
   "cell_type": "code",
   "execution_count": 33,
   "metadata": {},
   "outputs": [
    {
     "name": "stdout",
     "output_type": "stream",
     "text": [
      "Polynomial model performance for the training set (WA)\n",
      "-------------------------------------------\n",
      "RMSE of training set is 2270955.5631826757\n",
      "R2 score of training set is 0.9703632559810089\n",
      "\n",
      "\n",
      "Polynomial model performance for the test set (WA)\n",
      "-------------------------------------------\n",
      "RMSE of test set is 4278017.880877651\n",
      "R2 score of test set is 0.878156447116724\n"
     ]
    }
   ],
   "source": [
    "create_polynomial_regression_model(3)"
   ]
  },
  {
   "cell_type": "markdown",
   "metadata": {},
   "source": [
    "### Plots"
   ]
  },
  {
   "cell_type": "markdown",
   "metadata": {},
   "source": [
    "#### Kansas"
   ]
  },
  {
   "cell_type": "code",
   "execution_count": null,
   "metadata": {},
   "outputs": [],
   "source": []
  },
  {
   "cell_type": "markdown",
   "metadata": {},
   "source": [
    "#### Washington"
   ]
  },
  {
   "cell_type": "code",
   "execution_count": null,
   "metadata": {},
   "outputs": [],
   "source": []
  }
 ],
 "metadata": {
  "kernelspec": {
   "display_name": "Python 3",
   "language": "python",
   "name": "python3"
  },
  "language_info": {
   "codemirror_mode": {
    "name": "ipython",
    "version": 3
   },
   "file_extension": ".py",
   "mimetype": "text/x-python",
   "name": "python",
   "nbconvert_exporter": "python",
   "pygments_lexer": "ipython3",
   "version": "3.7.3"
  }
 },
 "nbformat": 4,
 "nbformat_minor": 2
}
