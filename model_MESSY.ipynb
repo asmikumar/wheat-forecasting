{
 "cells": [
  {
   "cell_type": "code",
   "execution_count": 15,
   "metadata": {
    "collapsed": true
   },
   "outputs": [],
   "source": [
    "import pandas as pd\n",
    "import matplotlib.pyplot as plt\n",
    "import numpy as np"
   ]
  },
  {
   "cell_type": "code",
   "execution_count": 7,
   "metadata": {},
   "outputs": [
    {
     "data": {
      "text/html": [
       "<div>\n",
       "<style>\n",
       "    .dataframe thead tr:only-child th {\n",
       "        text-align: right;\n",
       "    }\n",
       "\n",
       "    .dataframe thead th {\n",
       "        text-align: left;\n",
       "    }\n",
       "\n",
       "    .dataframe tbody tr th {\n",
       "        vertical-align: top;\n",
       "    }\n",
       "</style>\n",
       "<table border=\"1\" class=\"dataframe\">\n",
       "  <thead>\n",
       "    <tr style=\"text-align: right;\">\n",
       "      <th></th>\n",
       "      <th>State</th>\n",
       "      <th>State name</th>\n",
       "      <th>County</th>\n",
       "      <th>County name</th>\n",
       "      <th>Year</th>\n",
       "      <th>Month</th>\n",
       "      <th>Commodity (partial list)</th>\n",
       "      <th>Cause of loss</th>\n",
       "      <th>Payment indemnity (US$)</th>\n",
       "      <th>Payment acreage</th>\n",
       "      <th>Payment count</th>\n",
       "      <th>Liability (US$)</th>\n",
       "      <th>Subsidy (US$)</th>\n",
       "      <th>Avg_Temp</th>\n",
       "      <th>Min_Temp</th>\n",
       "      <th>Max_Temp</th>\n",
       "      <th>Precipitation</th>\n",
       "      <th>PDSI</th>\n",
       "    </tr>\n",
       "  </thead>\n",
       "  <tbody>\n",
       "    <tr>\n",
       "      <th>0</th>\n",
       "      <td>20</td>\n",
       "      <td>Kansas</td>\n",
       "      <td>67</td>\n",
       "      <td>Grant</td>\n",
       "      <td>1989</td>\n",
       "      <td>0</td>\n",
       "      <td>Wheat</td>\n",
       "      <td>Freeze</td>\n",
       "      <td>334.0</td>\n",
       "      <td>16.2000</td>\n",
       "      <td>2</td>\n",
       "      <td>1125.0</td>\n",
       "      <td>18.0</td>\n",
       "      <td>NaN</td>\n",
       "      <td>NaN</td>\n",
       "      <td>NaN</td>\n",
       "      <td>NaN</td>\n",
       "      <td>NaN</td>\n",
       "    </tr>\n",
       "    <tr>\n",
       "      <th>1</th>\n",
       "      <td>20</td>\n",
       "      <td>Kansas</td>\n",
       "      <td>67</td>\n",
       "      <td>Grant</td>\n",
       "      <td>1989</td>\n",
       "      <td>1</td>\n",
       "      <td>Wheat</td>\n",
       "      <td>Drought</td>\n",
       "      <td>1413.0</td>\n",
       "      <td>67.6338</td>\n",
       "      <td>1</td>\n",
       "      <td>2842.0</td>\n",
       "      <td>203.0</td>\n",
       "      <td>35.3</td>\n",
       "      <td>18.2</td>\n",
       "      <td>52.4</td>\n",
       "      <td>0.41</td>\n",
       "      <td>-2.70</td>\n",
       "    </tr>\n",
       "    <tr>\n",
       "      <th>2</th>\n",
       "      <td>20</td>\n",
       "      <td>Kansas</td>\n",
       "      <td>67</td>\n",
       "      <td>Grant</td>\n",
       "      <td>1989</td>\n",
       "      <td>1</td>\n",
       "      <td>Wheat</td>\n",
       "      <td>Wind/excess Wind</td>\n",
       "      <td>18073.0</td>\n",
       "      <td>259.6120</td>\n",
       "      <td>1</td>\n",
       "      <td>18159.0</td>\n",
       "      <td>605.0</td>\n",
       "      <td>35.3</td>\n",
       "      <td>18.2</td>\n",
       "      <td>52.4</td>\n",
       "      <td>0.41</td>\n",
       "      <td>-2.70</td>\n",
       "    </tr>\n",
       "    <tr>\n",
       "      <th>3</th>\n",
       "      <td>20</td>\n",
       "      <td>Kansas</td>\n",
       "      <td>67</td>\n",
       "      <td>Grant</td>\n",
       "      <td>1989</td>\n",
       "      <td>2</td>\n",
       "      <td>Wheat</td>\n",
       "      <td>Cold Winter</td>\n",
       "      <td>31289.0</td>\n",
       "      <td>1036.5716</td>\n",
       "      <td>2</td>\n",
       "      <td>61478.0</td>\n",
       "      <td>2648.0</td>\n",
       "      <td>26.7</td>\n",
       "      <td>14.8</td>\n",
       "      <td>38.6</td>\n",
       "      <td>0.40</td>\n",
       "      <td>-2.86</td>\n",
       "    </tr>\n",
       "    <tr>\n",
       "      <th>4</th>\n",
       "      <td>20</td>\n",
       "      <td>Kansas</td>\n",
       "      <td>67</td>\n",
       "      <td>Grant</td>\n",
       "      <td>1989</td>\n",
       "      <td>2</td>\n",
       "      <td>Wheat</td>\n",
       "      <td>Drought</td>\n",
       "      <td>4156.0</td>\n",
       "      <td>269.2672</td>\n",
       "      <td>2</td>\n",
       "      <td>12663.0</td>\n",
       "      <td>746.0</td>\n",
       "      <td>26.7</td>\n",
       "      <td>14.8</td>\n",
       "      <td>38.6</td>\n",
       "      <td>0.40</td>\n",
       "      <td>-2.86</td>\n",
       "    </tr>\n",
       "  </tbody>\n",
       "</table>\n",
       "</div>"
      ],
      "text/plain": [
       "   State State name  County County name  Year  Month Commodity (partial list)  \\\n",
       "0     20     Kansas      67       Grant  1989      0                    Wheat   \n",
       "1     20     Kansas      67       Grant  1989      1                    Wheat   \n",
       "2     20     Kansas      67       Grant  1989      1                    Wheat   \n",
       "3     20     Kansas      67       Grant  1989      2                    Wheat   \n",
       "4     20     Kansas      67       Grant  1989      2                    Wheat   \n",
       "\n",
       "      Cause of loss  Payment indemnity (US$)  Payment acreage  Payment count  \\\n",
       "0            Freeze                    334.0          16.2000              2   \n",
       "1           Drought                   1413.0          67.6338              1   \n",
       "2  Wind/excess Wind                  18073.0         259.6120              1   \n",
       "3       Cold Winter                  31289.0        1036.5716              2   \n",
       "4           Drought                   4156.0         269.2672              2   \n",
       "\n",
       "   Liability (US$)  Subsidy (US$)  Avg_Temp  Min_Temp  Max_Temp  \\\n",
       "0           1125.0           18.0       NaN       NaN       NaN   \n",
       "1           2842.0          203.0      35.3      18.2      52.4   \n",
       "2          18159.0          605.0      35.3      18.2      52.4   \n",
       "3          61478.0         2648.0      26.7      14.8      38.6   \n",
       "4          12663.0          746.0      26.7      14.8      38.6   \n",
       "\n",
       "   Precipitation  PDSI  \n",
       "0            NaN   NaN  \n",
       "1           0.41 -2.70  \n",
       "2           0.41 -2.70  \n",
       "3           0.40 -2.86  \n",
       "4           0.40 -2.86  "
      ]
     },
     "execution_count": 7,
     "metadata": {},
     "output_type": "execute_result"
    }
   ],
   "source": [
    "KS_loss = pd.read_excel(r'KS_loss_merged.xlsx')\n",
    "KS_loss.head()"
   ]
  },
  {
   "cell_type": "code",
   "execution_count": 64,
   "metadata": {},
   "outputs": [
    {
     "data": {
      "text/plain": [
       "0     NaN\n",
       "1    35.3\n",
       "2    35.3\n",
       "3    26.7\n",
       "4    26.7\n",
       "5    26.7\n",
       "6    45.4\n",
       "7    45.4\n",
       "8    45.4\n",
       "9    56.9\n",
       "Name: Avg_Temp, dtype: float64"
      ]
     },
     "execution_count": 64,
     "metadata": {},
     "output_type": "execute_result"
    }
   ],
   "source": [
    "avg_temp_data = KS_loss['Avg_Temp']\n",
    "trial = avg_temp_data.head(10)\n",
    "trial"
   ]
  },
  {
   "cell_type": "code",
   "execution_count": 67,
   "metadata": {},
   "outputs": [
    {
     "name": "stdout",
     "output_type": "stream",
     "text": [
      "45.4    3\n",
      "26.7    3\n",
      "35.3    2\n",
      "56.9    1\n",
      "Name: Avg_Temp, dtype: int64\n"
     ]
    },
    {
     "data": {
      "image/png": "[encoded data removed]",
      "text/plain": [
       "<Figure size 576x396 with 1 Axes>"
      ]
     },
     "metadata": {},
     "output_type": "display_data"
    }
   ],
   "source": [
    "#trial.apply(pd.Series.value_counts, bins=[0,10,20,30,40,50,60,70,80,90,100])\n",
    "print(trial.value_counts())\n",
    "trial.apply(lambda x: pd.cut(trial, bins=[0,10,20,30,40,50,60,70,80,90,100]).value_counts(sort=False)).iloc[[0]].plot.bar()\n",
    "plt.show()\n",
    "#trial.groupby(pd.cut(trial['x'], np.arange(0,100,20))).count()"
   ]
  },
  {
   "cell_type": "markdown",
   "metadata": {},
   "source": [
    "### Frequency Bar Graph (Average Temp)"
   ]
  },
  {
   "cell_type": "code",
   "execution_count": 88,
   "metadata": {},
   "outputs": [
    {
     "data": {
      "image/png": "[encoded data removed]",
      "text/plain": [
       "<Figure size 1152x288 with 1 Axes>"
      ]
     },
     "metadata": {},
     "output_type": "display_data"
    }
   ],
   "source": [
    "out = pd.cut(trial, bins=[0,10,20,30,40,50,60,70,80,90,100], include_lowest=True)\n",
    "ax = out.value_counts(sort=False).plot.bar(rot=0, color=\"b\", figsize=(16,4))\n",
    "#ax.set_xticklabels([c[1:-1].replace(\",\",\" to\") for c in out.cat.categories])\n",
    "#ax.set_xticklabels([t if not i%2 else \"\" for i,t in enumerate(ax.get_xticklabels())])\n",
    "plt.show()"
   ]
  },
  {
   "cell_type": "code",
   "execution_count": null,
   "metadata": {
    "collapsed": true
   },
   "outputs": [],
   "source": [
    "# Exploding nested pie chart\n",
    "\n",
    "explode = [0.2*i for i in len(sizes)*[1]] \n",
    "explode_types = [0.1*i for i in len(sizes_types)*[1]] \n",
    "\n",
    "plt.pie(sizes, explode=explode, labels=labels, colors=colors, startangle=90, frame=True, textprops={'fontsize': 7})\n",
    "plt.pie(sizes_types, explode=explode_types, labels=labels_types, colors=colors_types, radius=0.75, startangle=90, textprops={'color':'white', 'fontsize':6})\n",
    "centre_circle = plt.Circle((0,0), 0.5, color='black', fc='white', linewidth=0)\n",
    "\n",
    "fig = plt.gcf()\n",
    "fig.gca().add_artist(centre_circle)\n",
    "plt.rcParams['patch.linewidth'] = 0.25\n",
    "plt.axis('equal')\n",
    "plt.title('Causes of Loss')\n",
    "plt.tight_layout()\n",
    "plt.show()"
   ]
  }
 ],
 "metadata": {
  "kernelspec": {
   "display_name": "Python 3",
   "language": "python",
   "name": "python3"
  },
  "language_info": {
   "codemirror_mode": {
    "name": "ipython",
    "version": 3
   },
   "file_extension": ".py",
   "mimetype": "text/x-python",
   "name": "python",
   "nbconvert_exporter": "python",
   "pygments_lexer": "ipython3",
   "version": "3.7.3"
  }
 },
 "nbformat": 4,
 "nbformat_minor": 2
}
