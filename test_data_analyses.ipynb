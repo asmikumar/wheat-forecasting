{
 "cells": [
  {
   "cell_type": "code",
   "execution_count": 1,
   "metadata": {},
   "outputs": [],
   "source": [
    "import pandas as pd\n",
    "import matplotlib.pyplot as plt\n",
    "import seaborn as sns"
   ]
  },
  {
   "cell_type": "markdown",
   "metadata": {},
   "source": [
    "### Washington (WA) — Lincoln, Okanogan, Skagit, Spokane, Whitman"
   ]
  },
  {
   "cell_type": "markdown",
   "metadata": {},
   "source": [
    "#### Reading Report_Generator (including loss ratio data) file for WA\n",
    "Annual summary relating to insurance — one (or sometimes no) entry per county per year "
   ]
  },
  {
   "cell_type": "code",
   "execution_count": 2,
   "metadata": {},
   "outputs": [
    {
     "data": {
      "text/html": [
       "<div>\n",
       "<style scoped>\n",
       "    .dataframe tbody tr th:only-of-type {\n",
       "        vertical-align: middle;\n",
       "    }\n",
       "\n",
       "    .dataframe tbody tr th {\n",
       "        vertical-align: top;\n",
       "    }\n",
       "\n",
       "    .dataframe thead th {\n",
       "        text-align: right;\n",
       "    }\n",
       "</style>\n",
       "<table border=\"1\" class=\"dataframe\">\n",
       "  <thead>\n",
       "    <tr style=\"text-align: right;\">\n",
       "      <th></th>\n",
       "      <th>Commodity Year</th>\n",
       "      <th>Commodity Name</th>\n",
       "      <th>State Abbrv</th>\n",
       "      <th>County Name</th>\n",
       "      <th>Policies Sold</th>\n",
       "      <th>Policies Earning Prem</th>\n",
       "      <th>Policies Indemnified</th>\n",
       "      <th>Units Earning Prem</th>\n",
       "      <th>Units Indemnified</th>\n",
       "      <th>Quantity</th>\n",
       "      <th>...</th>\n",
       "      <th>Companion/Endorsed Acres</th>\n",
       "      <th>Liabilities ($)</th>\n",
       "      <th>Total Prem ($)</th>\n",
       "      <th>Subsidy ($)</th>\n",
       "      <th>Indemnity ($)</th>\n",
       "      <th>EFA Prem Discount ($)</th>\n",
       "      <th>Addnl Subsidy ($)</th>\n",
       "      <th>State Subsidy ($)</th>\n",
       "      <th>Earn Prem Rate</th>\n",
       "      <th>Loss Ratio</th>\n",
       "    </tr>\n",
       "  </thead>\n",
       "  <tbody>\n",
       "    <tr>\n",
       "      <th>0</th>\n",
       "      <td>1989</td>\n",
       "      <td>All Other Commodities</td>\n",
       "      <td>WA</td>\n",
       "      <td>Okanogan</td>\n",
       "      <td>1</td>\n",
       "      <td>1</td>\n",
       "      <td>0</td>\n",
       "      <td>2</td>\n",
       "      <td>0</td>\n",
       "      <td>122</td>\n",
       "      <td>...</td>\n",
       "      <td>0</td>\n",
       "      <td>10417</td>\n",
       "      <td>987</td>\n",
       "      <td>168</td>\n",
       "      <td>0</td>\n",
       "      <td>0</td>\n",
       "      <td>0</td>\n",
       "      <td>0</td>\n",
       "      <td>0.094748</td>\n",
       "      <td>0.000000</td>\n",
       "    </tr>\n",
       "    <tr>\n",
       "      <th>1</th>\n",
       "      <td>1989</td>\n",
       "      <td>All Other Commodities</td>\n",
       "      <td>WA</td>\n",
       "      <td>Skagit</td>\n",
       "      <td>2</td>\n",
       "      <td>2</td>\n",
       "      <td>0</td>\n",
       "      <td>2</td>\n",
       "      <td>0</td>\n",
       "      <td>147</td>\n",
       "      <td>...</td>\n",
       "      <td>0</td>\n",
       "      <td>14586</td>\n",
       "      <td>604</td>\n",
       "      <td>136</td>\n",
       "      <td>0</td>\n",
       "      <td>0</td>\n",
       "      <td>0</td>\n",
       "      <td>0</td>\n",
       "      <td>0.041409</td>\n",
       "      <td>0.000000</td>\n",
       "    </tr>\n",
       "    <tr>\n",
       "      <th>2</th>\n",
       "      <td>1989</td>\n",
       "      <td>WHEAT</td>\n",
       "      <td>WA</td>\n",
       "      <td>Lincoln</td>\n",
       "      <td>747</td>\n",
       "      <td>747</td>\n",
       "      <td>431</td>\n",
       "      <td>1481</td>\n",
       "      <td>695</td>\n",
       "      <td>200126</td>\n",
       "      <td>...</td>\n",
       "      <td>0</td>\n",
       "      <td>22702070</td>\n",
       "      <td>870493</td>\n",
       "      <td>150821</td>\n",
       "      <td>1709526</td>\n",
       "      <td>0</td>\n",
       "      <td>0</td>\n",
       "      <td>0</td>\n",
       "      <td>0.038344</td>\n",
       "      <td>1.963859</td>\n",
       "    </tr>\n",
       "    <tr>\n",
       "      <th>3</th>\n",
       "      <td>1989</td>\n",
       "      <td>WHEAT</td>\n",
       "      <td>WA</td>\n",
       "      <td>Spokane</td>\n",
       "      <td>132</td>\n",
       "      <td>132</td>\n",
       "      <td>31</td>\n",
       "      <td>235</td>\n",
       "      <td>39</td>\n",
       "      <td>19065</td>\n",
       "      <td>...</td>\n",
       "      <td>0</td>\n",
       "      <td>2503169</td>\n",
       "      <td>106985</td>\n",
       "      <td>19320</td>\n",
       "      <td>76808</td>\n",
       "      <td>0</td>\n",
       "      <td>0</td>\n",
       "      <td>0</td>\n",
       "      <td>0.042739</td>\n",
       "      <td>0.717932</td>\n",
       "    </tr>\n",
       "    <tr>\n",
       "      <th>4</th>\n",
       "      <td>1989</td>\n",
       "      <td>WHEAT</td>\n",
       "      <td>WA</td>\n",
       "      <td>Whitman</td>\n",
       "      <td>1215</td>\n",
       "      <td>1215</td>\n",
       "      <td>353</td>\n",
       "      <td>2062</td>\n",
       "      <td>470</td>\n",
       "      <td>280461</td>\n",
       "      <td>...</td>\n",
       "      <td>0</td>\n",
       "      <td>40049559</td>\n",
       "      <td>1117467</td>\n",
       "      <td>193273</td>\n",
       "      <td>1378891</td>\n",
       "      <td>0</td>\n",
       "      <td>0</td>\n",
       "      <td>0</td>\n",
       "      <td>0.027902</td>\n",
       "      <td>1.233943</td>\n",
       "    </tr>\n",
       "  </tbody>\n",
       "</table>\n",
       "<p>5 rows × 21 columns</p>\n",
       "</div>"
      ],
      "text/plain": [
       "   Commodity Year         Commodity Name State Abbrv County Name  \\\n",
       "0            1989  All Other Commodities          WA    Okanogan   \n",
       "1            1989  All Other Commodities          WA      Skagit   \n",
       "2            1989                  WHEAT          WA     Lincoln   \n",
       "3            1989                  WHEAT          WA     Spokane   \n",
       "4            1989                  WHEAT          WA     Whitman   \n",
       "\n",
       "   Policies Sold  Policies Earning Prem  Policies Indemnified  \\\n",
       "0              1                      1                     0   \n",
       "1              2                      2                     0   \n",
       "2            747                    747                   431   \n",
       "3            132                    132                    31   \n",
       "4           1215                   1215                   353   \n",
       "\n",
       "   Units Earning Prem  Units Indemnified  Quantity  ...  \\\n",
       "0                   2                  0       122  ...   \n",
       "1                   2                  0       147  ...   \n",
       "2                1481                695    200126  ...   \n",
       "3                 235                 39     19065  ...   \n",
       "4                2062                470    280461  ...   \n",
       "\n",
       "  Companion/Endorsed Acres  Liabilities ($)  Total Prem ($)  Subsidy ($)  \\\n",
       "0                        0            10417             987          168   \n",
       "1                        0            14586             604          136   \n",
       "2                        0         22702070          870493       150821   \n",
       "3                        0          2503169          106985        19320   \n",
       "4                        0         40049559         1117467       193273   \n",
       "\n",
       "   Indemnity ($)  EFA Prem Discount ($)  Addnl Subsidy ($)  State Subsidy ($)  \\\n",
       "0              0                      0                  0                  0   \n",
       "1              0                      0                  0                  0   \n",
       "2        1709526                      0                  0                  0   \n",
       "3          76808                      0                  0                  0   \n",
       "4        1378891                      0                  0                  0   \n",
       "\n",
       "   Earn Prem Rate  Loss Ratio  \n",
       "0        0.094748    0.000000  \n",
       "1        0.041409    0.000000  \n",
       "2        0.038344    1.963859  \n",
       "3        0.042739    0.717932  \n",
       "4        0.027902    1.233943  \n",
       "\n",
       "[5 rows x 21 columns]"
      ]
     },
     "execution_count": 2,
     "metadata": {},
     "output_type": "execute_result"
    }
   ],
   "source": [
    "df_insurance_WA = pd.read_excel(\"Data_KS_WA/WA/WA_Report_Generator.xlsx\")\n",
    "df_insurance_WA.head()"
   ]
  },
  {
   "cell_type": "markdown",
   "metadata": {},
   "source": [
    "#### Reading agricultural production data for WA\n",
    "Annual summary relating to wheat production, measured in bushels (BU) — one (or sometimes no) entry per county per year "
   ]
  },
  {
   "cell_type": "code",
   "execution_count": 10,
   "metadata": {},
   "outputs": [
    {
     "data": {
      "text/html": [
       "<div>\n",
       "<style scoped>\n",
       "    .dataframe tbody tr th:only-of-type {\n",
       "        vertical-align: middle;\n",
       "    }\n",
       "\n",
       "    .dataframe tbody tr th {\n",
       "        vertical-align: top;\n",
       "    }\n",
       "\n",
       "    .dataframe thead th {\n",
       "        text-align: right;\n",
       "    }\n",
       "</style>\n",
       "<table border=\"1\" class=\"dataframe\">\n",
       "  <thead>\n",
       "    <tr style=\"text-align: right;\">\n",
       "      <th></th>\n",
       "      <th>County</th>\n",
       "      <th>Bushels</th>\n",
       "    </tr>\n",
       "  </thead>\n",
       "  <tbody>\n",
       "    <tr>\n",
       "      <th>0</th>\n",
       "      <td>OKANOGAN</td>\n",
       "      <td>325,232</td>\n",
       "    </tr>\n",
       "    <tr>\n",
       "      <th>1</th>\n",
       "      <td>LINCOLN</td>\n",
       "      <td>21,544,831</td>\n",
       "    </tr>\n",
       "    <tr>\n",
       "      <th>2</th>\n",
       "      <td>SPOKANE</td>\n",
       "      <td>7,141,746</td>\n",
       "    </tr>\n",
       "    <tr>\n",
       "      <th>3</th>\n",
       "      <td>WHITMAN</td>\n",
       "      <td>37,682,051</td>\n",
       "    </tr>\n",
       "    <tr>\n",
       "      <th>4</th>\n",
       "      <td>SKAGIT</td>\n",
       "      <td>269,588</td>\n",
       "    </tr>\n",
       "  </tbody>\n",
       "</table>\n",
       "</div>"
      ],
      "text/plain": [
       "     County     Bushels\n",
       "0  OKANOGAN     325,232\n",
       "1   LINCOLN  21,544,831\n",
       "2   SPOKANE   7,141,746\n",
       "3   WHITMAN  37,682,051\n",
       "4    SKAGIT     269,588"
      ]
     },
     "execution_count": 10,
     "metadata": {},
     "output_type": "execute_result"
    }
   ],
   "source": [
    "df_production_WA = pd.read_csv(\"Data_KS_WA/WA/WA_Agriculture/WA_County_Production_Bushels.csv\")\n",
    "\n",
    "df_production_WA_select = df_production_WA[['County','Value']]\n",
    "df_production_WA_select.rename(columns={'Value':'Bushels'}, inplace=True)\n",
    "df_production_WA_select.head()"
   ]
  },
  {
   "cell_type": "markdown",
   "metadata": {},
   "source": [
    "### Kansas (KS) — Grant, Gray, Haskell, Kearny, Morton"
   ]
  },
  {
   "cell_type": "markdown",
   "metadata": {},
   "source": [
    "#### Reading Report_Generator file for KS"
   ]
  },
  {
   "cell_type": "code",
   "execution_count": 13,
   "metadata": {},
   "outputs": [
    {
     "data": {
      "text/html": [
       "<div>\n",
       "<style scoped>\n",
       "    .dataframe tbody tr th:only-of-type {\n",
       "        vertical-align: middle;\n",
       "    }\n",
       "\n",
       "    .dataframe tbody tr th {\n",
       "        vertical-align: top;\n",
       "    }\n",
       "\n",
       "    .dataframe thead th {\n",
       "        text-align: right;\n",
       "    }\n",
       "</style>\n",
       "<table border=\"1\" class=\"dataframe\">\n",
       "  <thead>\n",
       "    <tr style=\"text-align: right;\">\n",
       "      <th></th>\n",
       "      <th>Commodity Year</th>\n",
       "      <th>Commodity Name</th>\n",
       "      <th>State Abbrv</th>\n",
       "      <th>County Name</th>\n",
       "      <th>Policies Sold</th>\n",
       "      <th>Policies Earning Prem</th>\n",
       "      <th>Policies Indemnified</th>\n",
       "      <th>Units Earning Prem</th>\n",
       "      <th>Units Indemnified</th>\n",
       "      <th>Quantity</th>\n",
       "      <th>...</th>\n",
       "      <th>Companion/Endorsed Acres</th>\n",
       "      <th>Liabilities ($)</th>\n",
       "      <th>Total Prem ($)</th>\n",
       "      <th>Subsidy ($)</th>\n",
       "      <th>Indemnity ($)</th>\n",
       "      <th>EFA Prem Discount ($)</th>\n",
       "      <th>Addnl Subsidy ($)</th>\n",
       "      <th>State Subsidy ($)</th>\n",
       "      <th>Earn Prem Rate</th>\n",
       "      <th>Loss Ratio</th>\n",
       "    </tr>\n",
       "  </thead>\n",
       "  <tbody>\n",
       "    <tr>\n",
       "      <th>0</th>\n",
       "      <td>1989</td>\n",
       "      <td>WHEAT</td>\n",
       "      <td>KS</td>\n",
       "      <td>Grant</td>\n",
       "      <td>49</td>\n",
       "      <td>47</td>\n",
       "      <td>28</td>\n",
       "      <td>145</td>\n",
       "      <td>71</td>\n",
       "      <td>10051</td>\n",
       "      <td>...</td>\n",
       "      <td>0</td>\n",
       "      <td>685702</td>\n",
       "      <td>71500</td>\n",
       "      <td>21381</td>\n",
       "      <td>158457</td>\n",
       "      <td>0</td>\n",
       "      <td>0</td>\n",
       "      <td>0</td>\n",
       "      <td>0.104272</td>\n",
       "      <td>2.216181</td>\n",
       "    </tr>\n",
       "    <tr>\n",
       "      <th>1</th>\n",
       "      <td>1989</td>\n",
       "      <td>WHEAT</td>\n",
       "      <td>KS</td>\n",
       "      <td>Gray</td>\n",
       "      <td>129</td>\n",
       "      <td>126</td>\n",
       "      <td>76</td>\n",
       "      <td>251</td>\n",
       "      <td>124</td>\n",
       "      <td>20935</td>\n",
       "      <td>...</td>\n",
       "      <td>0</td>\n",
       "      <td>1229482</td>\n",
       "      <td>127161</td>\n",
       "      <td>37941</td>\n",
       "      <td>365098</td>\n",
       "      <td>0</td>\n",
       "      <td>0</td>\n",
       "      <td>0</td>\n",
       "      <td>0.103426</td>\n",
       "      <td>2.871147</td>\n",
       "    </tr>\n",
       "    <tr>\n",
       "      <th>2</th>\n",
       "      <td>1989</td>\n",
       "      <td>WHEAT</td>\n",
       "      <td>KS</td>\n",
       "      <td>Haskell</td>\n",
       "      <td>75</td>\n",
       "      <td>71</td>\n",
       "      <td>34</td>\n",
       "      <td>181</td>\n",
       "      <td>73</td>\n",
       "      <td>13570</td>\n",
       "      <td>...</td>\n",
       "      <td>0</td>\n",
       "      <td>969071</td>\n",
       "      <td>80135</td>\n",
       "      <td>23696</td>\n",
       "      <td>131035</td>\n",
       "      <td>0</td>\n",
       "      <td>0</td>\n",
       "      <td>0</td>\n",
       "      <td>0.082692</td>\n",
       "      <td>1.635178</td>\n",
       "    </tr>\n",
       "    <tr>\n",
       "      <th>3</th>\n",
       "      <td>1989</td>\n",
       "      <td>WHEAT</td>\n",
       "      <td>KS</td>\n",
       "      <td>Kearny</td>\n",
       "      <td>63</td>\n",
       "      <td>57</td>\n",
       "      <td>28</td>\n",
       "      <td>182</td>\n",
       "      <td>42</td>\n",
       "      <td>15541</td>\n",
       "      <td>...</td>\n",
       "      <td>0</td>\n",
       "      <td>921050</td>\n",
       "      <td>116608</td>\n",
       "      <td>34732</td>\n",
       "      <td>87687</td>\n",
       "      <td>0</td>\n",
       "      <td>0</td>\n",
       "      <td>0</td>\n",
       "      <td>0.126603</td>\n",
       "      <td>0.751980</td>\n",
       "    </tr>\n",
       "    <tr>\n",
       "      <th>4</th>\n",
       "      <td>1989</td>\n",
       "      <td>WHEAT</td>\n",
       "      <td>KS</td>\n",
       "      <td>Morton</td>\n",
       "      <td>74</td>\n",
       "      <td>72</td>\n",
       "      <td>57</td>\n",
       "      <td>280</td>\n",
       "      <td>197</td>\n",
       "      <td>20192</td>\n",
       "      <td>...</td>\n",
       "      <td>0</td>\n",
       "      <td>1193355</td>\n",
       "      <td>138764</td>\n",
       "      <td>40781</td>\n",
       "      <td>441029</td>\n",
       "      <td>0</td>\n",
       "      <td>0</td>\n",
       "      <td>0</td>\n",
       "      <td>0.116280</td>\n",
       "      <td>3.178266</td>\n",
       "    </tr>\n",
       "  </tbody>\n",
       "</table>\n",
       "<p>5 rows × 21 columns</p>\n",
       "</div>"
      ],
      "text/plain": [
       "   Commodity Year Commodity Name State Abbrv County Name  Policies Sold  \\\n",
       "0            1989          WHEAT          KS       Grant             49   \n",
       "1            1989          WHEAT          KS        Gray            129   \n",
       "2            1989          WHEAT          KS     Haskell             75   \n",
       "3            1989          WHEAT          KS      Kearny             63   \n",
       "4            1989          WHEAT          KS      Morton             74   \n",
       "\n",
       "   Policies Earning Prem  Policies Indemnified  Units Earning Prem  \\\n",
       "0                     47                    28                 145   \n",
       "1                    126                    76                 251   \n",
       "2                     71                    34                 181   \n",
       "3                     57                    28                 182   \n",
       "4                     72                    57                 280   \n",
       "\n",
       "   Units Indemnified  Quantity  ... Companion/Endorsed Acres  Liabilities ($)  \\\n",
       "0                 71     10051  ...                        0           685702   \n",
       "1                124     20935  ...                        0          1229482   \n",
       "2                 73     13570  ...                        0           969071   \n",
       "3                 42     15541  ...                        0           921050   \n",
       "4                197     20192  ...                        0          1193355   \n",
       "\n",
       "   Total Prem ($)  Subsidy ($)  Indemnity ($)  EFA Prem Discount ($)  \\\n",
       "0           71500        21381         158457                      0   \n",
       "1          127161        37941         365098                      0   \n",
       "2           80135        23696         131035                      0   \n",
       "3          116608        34732          87687                      0   \n",
       "4          138764        40781         441029                      0   \n",
       "\n",
       "   Addnl Subsidy ($)  State Subsidy ($)  Earn Prem Rate  Loss Ratio  \n",
       "0                  0                  0        0.104272    2.216181  \n",
       "1                  0                  0        0.103426    2.871147  \n",
       "2                  0                  0        0.082692    1.635178  \n",
       "3                  0                  0        0.126603    0.751980  \n",
       "4                  0                  0        0.116280    3.178266  \n",
       "\n",
       "[5 rows x 21 columns]"
      ]
     },
     "execution_count": 13,
     "metadata": {},
     "output_type": "execute_result"
    }
   ],
   "source": [
    "df_insurance_KS = pd.read_excel(\"Data_KS_WA/KS/KS_Report_Generator.xlsx\")\n",
    "df_insurance_KS.head()"
   ]
  },
  {
   "cell_type": "markdown",
   "metadata": {},
   "source": [
    "#### Reading agricultural production data for KS"
   ]
  },
  {
   "cell_type": "code",
   "execution_count": 15,
   "metadata": {},
   "outputs": [
    {
     "data": {
      "text/html": [
       "<div>\n",
       "<style scoped>\n",
       "    .dataframe tbody tr th:only-of-type {\n",
       "        vertical-align: middle;\n",
       "    }\n",
       "\n",
       "    .dataframe tbody tr th {\n",
       "        vertical-align: top;\n",
       "    }\n",
       "\n",
       "    .dataframe thead th {\n",
       "        text-align: right;\n",
       "    }\n",
       "</style>\n",
       "<table border=\"1\" class=\"dataframe\">\n",
       "  <thead>\n",
       "    <tr style=\"text-align: right;\">\n",
       "      <th></th>\n",
       "      <th>County</th>\n",
       "      <th>Bushels</th>\n",
       "    </tr>\n",
       "  </thead>\n",
       "  <tbody>\n",
       "    <tr>\n",
       "      <th>0</th>\n",
       "      <td>GRANT</td>\n",
       "      <td>2,692,012</td>\n",
       "    </tr>\n",
       "    <tr>\n",
       "      <th>1</th>\n",
       "      <td>GRAY</td>\n",
       "      <td>5,193,430</td>\n",
       "    </tr>\n",
       "    <tr>\n",
       "      <th>2</th>\n",
       "      <td>HASKELL</td>\n",
       "      <td>2,536,394</td>\n",
       "    </tr>\n",
       "    <tr>\n",
       "      <th>3</th>\n",
       "      <td>KEARNY</td>\n",
       "      <td>3,791,619</td>\n",
       "    </tr>\n",
       "    <tr>\n",
       "      <th>4</th>\n",
       "      <td>MORTON</td>\n",
       "      <td>2,400,827</td>\n",
       "    </tr>\n",
       "  </tbody>\n",
       "</table>\n",
       "</div>"
      ],
      "text/plain": [
       "    County    Bushels\n",
       "0    GRANT  2,692,012\n",
       "1     GRAY  5,193,430\n",
       "2  HASKELL  2,536,394\n",
       "3   KEARNY  3,791,619\n",
       "4   MORTON  2,400,827"
      ]
     },
     "execution_count": 15,
     "metadata": {},
     "output_type": "execute_result"
    }
   ],
   "source": [
    "df_production_KS = pd.read_csv(\"Data_KS_WA/KS/KS_Agriculture/KS_County_Production_Bushels.csv\")\n",
    "\n",
    "df_production_KS_select = df_production_KS[['County','Value']]\n",
    "df_production_KS_select.rename(columns={'Value':'Bushels'}, inplace=True)\n",
    "df_production_KS_select.head()"
   ]
  },
  {
   "cell_type": "markdown",
   "metadata": {},
   "source": [
    "## Plots\n",
    "Color palettes: https://python-graph-gallery.com/100-calling-a-color-with-seaborn/   \n",
    "Plot types: https://seaborn.pydata.org/tutorial/regression.html  \n",
    "Data distribution visuals: https://seaborn.pydata.org/generated/seaborn.jointplot.html  \n",
    "Note — by default, shaded areas of the plot represent the 95% confidence interval for (the slope of) that regression "
   ]
  },
  {
   "cell_type": "markdown",
   "metadata": {},
   "source": [
    "### Washington (WA)"
   ]
  },
  {
   "cell_type": "markdown",
   "metadata": {},
   "source": [
    "Indemnity ($) vs. Loss Ratio"
   ]
  },
  {
   "cell_type": "code",
   "execution_count": 26,
   "metadata": {},
   "outputs": [
    {
     "data": {
      "text/plain": [
       "<seaborn.axisgrid.JointGrid at 0x1a163e86a0>"
      ]
     },
     "execution_count": 26,
     "metadata": {},
     "output_type": "execute_result"
    },
    {
     "data": {
      "image/png": "[encoded data removed]",
      "text/plain": [
       "<Figure size 432x432 with 3 Axes>"
      ]
     },
     "metadata": {
      "needs_background": "light"
     },
     "output_type": "display_data"
    },
    {
     "data": {
      "image/png": "[encoded data removed]",
      "text/plain": [
       "<Figure size 432x432 with 3 Axes>"
      ]
     },
     "metadata": {
      "needs_background": "light"
     },
     "output_type": "display_data"
    }
   ],
   "source": [
    "# Depicts relationship between indemnity and loss ratio, as well as the spread of each variable\n",
    "sns.jointplot(x=\"Indemnity ($)\", y=\"Loss Ratio\", data=df_insurance_WA[['Indemnity ($)', 'Loss Ratio']], kind=\"reg\")\n",
    "\n",
    "# Replacing the scatterplots and histograms with density estimates \n",
    "sns.jointplot(x=\"Indemnity ($)\", y=\"Loss Ratio\", data=df_insurance_WA[['Indemnity ($)', 'Loss Ratio']], kind=\"kde\", space=0, color=\"g\")"
   ]
  },
  {
   "cell_type": "markdown",
   "metadata": {},
   "source": [
    "Total Premium ($) vs. Loss Ratio"
   ]
  },
  {
   "cell_type": "code",
   "execution_count": 22,
   "metadata": {},
   "outputs": [
    {
     "data": {
      "text/plain": [
       "<seaborn.axisgrid.JointGrid at 0x1a15ebb4e0>"
      ]
     },
     "execution_count": 22,
     "metadata": {},
     "output_type": "execute_result"
    },
    {
     "data": {
      "image/png": "[encoded data removed]",
      "text/plain": [
       "<Figure size 432x432 with 3 Axes>"
      ]
     },
     "metadata": {
      "needs_background": "light"
     },
     "output_type": "display_data"
    }
   ],
   "source": [
    "# Depicts relationship between total premium and loss ratio, as well as the spread of each variable\n",
    "sns.jointplot(x=\"Total Prem ($)\", y=\"Loss Ratio\", data=df_insurance_WA[['Total Prem ($)', 'Loss Ratio']], kind=\"reg\", color='b')\n"
   ]
  },
  {
   "cell_type": "markdown",
   "metadata": {},
   "source": [
    "Liabilities ($) vs. Loss Ratio"
   ]
  },
  {
   "cell_type": "code",
   "execution_count": 24,
   "metadata": {},
   "outputs": [
    {
     "data": {
      "text/plain": [
       "<seaborn.axisgrid.JointGrid at 0x1a156647f0>"
      ]
     },
     "execution_count": 24,
     "metadata": {},
     "output_type": "execute_result"
    },
    {
     "data": {
      "image/png": "[encoded data removed]",
      "text/plain": [
       "<Figure size 432x432 with 3 Axes>"
      ]
     },
     "metadata": {
      "needs_background": "light"
     },
     "output_type": "display_data"
    }
   ],
   "source": [
    "# Depicts relationship between liabilities and loss ratio, as well as the spread of each variable\n",
    "sns.jointplot(x=\"Liabilities ($)\", y=\"Loss Ratio\", data=df_insurance_WA[['Liabilities ($)', 'Loss Ratio']], kind=\"reg\", color='y')\n"
   ]
  },
  {
   "cell_type": "markdown",
   "metadata": {},
   "source": [
    "#### County-by-county analyses for WA \n",
    "Such analyses are likely more informative than the ones considering WA counties together, as they have differing indemnity values (gradient)"
   ]
  },
  {
   "cell_type": "code",
   "execution_count": null,
   "metadata": {},
   "outputs": [],
   "source": [
    "# Regression lines are color-coded by county\n"
   ]
  },
  {
   "cell_type": "markdown",
   "metadata": {},
   "source": [
    "### Kansas (KS)"
   ]
  },
  {
   "cell_type": "code",
   "execution_count": null,
   "metadata": {},
   "outputs": [],
   "source": []
  },
  {
   "cell_type": "markdown",
   "metadata": {},
   "source": [
    "#### County-by-county analyses for KS\n",
    "We hypothesize that since these counties have similar indemnity values, these analyses may be similar to the ones encompassing all KS counties (no gradient)"
   ]
  },
  {
   "cell_type": "code",
   "execution_count": null,
   "metadata": {},
   "outputs": [],
   "source": []
  }
 ],
 "metadata": {
  "kernelspec": {
   "display_name": "Python 3",
   "language": "python",
   "name": "python3"
  },
  "language_info": {
   "codemirror_mode": {
    "name": "ipython",
    "version": 3
   },
   "file_extension": ".py",
   "mimetype": "text/x-python",
   "name": "python",
   "nbconvert_exporter": "python",
   "pygments_lexer": "ipython3",
   "version": "3.7.3"
  }
 },
 "nbformat": 4,
 "nbformat_minor": 2
}
