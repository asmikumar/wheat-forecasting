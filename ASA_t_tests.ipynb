{
 "cells": [
  {
   "cell_type": "code",
   "execution_count": 1,
   "metadata": {},
   "outputs": [],
   "source": [
    "import pandas as pd\n",
    "import numpy as np\n",
    "import math\n",
    "from scipy import stats"
   ]
  },
  {
   "cell_type": "code",
   "execution_count": 2,
   "metadata": {},
   "outputs": [],
   "source": [
    "import matplotlib\n",
    "import matplotlib.pyplot as plt\n",
    "import seaborn as sns\n",
    "#from matplotlib.ticker import FuncFormatter\n",
    "#from matplotlib.ticker import MaxNLocator\n",
    "matplotlib.rcParams['figure.dpi'] = 125"
   ]
  },
  {
   "cell_type": "markdown",
   "metadata": {},
   "source": [
    "### Washington vs. Kansas"
   ]
  },
  {
   "cell_type": "markdown",
   "metadata": {},
   "source": [
    "Washington — Skagit, Whitman"
   ]
  },
  {
   "cell_type": "code",
   "execution_count": 3,
   "metadata": {},
   "outputs": [
    {
     "data": {
      "text/html": [
       "<div>\n",
       "<style scoped>\n",
       "    .dataframe tbody tr th:only-of-type {\n",
       "        vertical-align: middle;\n",
       "    }\n",
       "\n",
       "    .dataframe tbody tr th {\n",
       "        vertical-align: top;\n",
       "    }\n",
       "\n",
       "    .dataframe thead th {\n",
       "        text-align: right;\n",
       "    }\n",
       "</style>\n",
       "<table border=\"1\" class=\"dataframe\">\n",
       "  <thead>\n",
       "    <tr style=\"text-align: right;\">\n",
       "      <th></th>\n",
       "      <th>Commodity Year</th>\n",
       "      <th>Commodity Name</th>\n",
       "      <th>State Abbrv</th>\n",
       "      <th>County Name</th>\n",
       "      <th>Policies Sold</th>\n",
       "      <th>Policies Earning Prem</th>\n",
       "      <th>Policies Indemnified</th>\n",
       "      <th>Units Earning Prem</th>\n",
       "      <th>Units Indemnified</th>\n",
       "      <th>Quantity</th>\n",
       "      <th>...</th>\n",
       "      <th>Companion/Endorsed Acres</th>\n",
       "      <th>Liabilities ($)</th>\n",
       "      <th>Total Prem ($)</th>\n",
       "      <th>Subsidy ($)</th>\n",
       "      <th>Indemnity ($)</th>\n",
       "      <th>EFA Prem Discount ($)</th>\n",
       "      <th>Addnl Subsidy ($)</th>\n",
       "      <th>State Subsidy ($)</th>\n",
       "      <th>Earn Prem Rate</th>\n",
       "      <th>Loss Ratio</th>\n",
       "    </tr>\n",
       "  </thead>\n",
       "  <tbody>\n",
       "    <tr>\n",
       "      <th>0</th>\n",
       "      <td>1989</td>\n",
       "      <td>All Other Commodities</td>\n",
       "      <td>WA</td>\n",
       "      <td>Okanogan</td>\n",
       "      <td>1</td>\n",
       "      <td>1</td>\n",
       "      <td>0</td>\n",
       "      <td>2</td>\n",
       "      <td>0</td>\n",
       "      <td>122</td>\n",
       "      <td>...</td>\n",
       "      <td>0</td>\n",
       "      <td>10417</td>\n",
       "      <td>987</td>\n",
       "      <td>168</td>\n",
       "      <td>0</td>\n",
       "      <td>0</td>\n",
       "      <td>0</td>\n",
       "      <td>0</td>\n",
       "      <td>0.094748</td>\n",
       "      <td>0.000000</td>\n",
       "    </tr>\n",
       "    <tr>\n",
       "      <th>1</th>\n",
       "      <td>1989</td>\n",
       "      <td>All Other Commodities</td>\n",
       "      <td>WA</td>\n",
       "      <td>Skagit</td>\n",
       "      <td>2</td>\n",
       "      <td>2</td>\n",
       "      <td>0</td>\n",
       "      <td>2</td>\n",
       "      <td>0</td>\n",
       "      <td>147</td>\n",
       "      <td>...</td>\n",
       "      <td>0</td>\n",
       "      <td>14586</td>\n",
       "      <td>604</td>\n",
       "      <td>136</td>\n",
       "      <td>0</td>\n",
       "      <td>0</td>\n",
       "      <td>0</td>\n",
       "      <td>0</td>\n",
       "      <td>0.041409</td>\n",
       "      <td>0.000000</td>\n",
       "    </tr>\n",
       "    <tr>\n",
       "      <th>2</th>\n",
       "      <td>1989</td>\n",
       "      <td>WHEAT</td>\n",
       "      <td>WA</td>\n",
       "      <td>Lincoln</td>\n",
       "      <td>747</td>\n",
       "      <td>747</td>\n",
       "      <td>431</td>\n",
       "      <td>1481</td>\n",
       "      <td>695</td>\n",
       "      <td>200126</td>\n",
       "      <td>...</td>\n",
       "      <td>0</td>\n",
       "      <td>22702070</td>\n",
       "      <td>870493</td>\n",
       "      <td>150821</td>\n",
       "      <td>1709526</td>\n",
       "      <td>0</td>\n",
       "      <td>0</td>\n",
       "      <td>0</td>\n",
       "      <td>0.038344</td>\n",
       "      <td>1.963859</td>\n",
       "    </tr>\n",
       "    <tr>\n",
       "      <th>3</th>\n",
       "      <td>1989</td>\n",
       "      <td>WHEAT</td>\n",
       "      <td>WA</td>\n",
       "      <td>Spokane</td>\n",
       "      <td>132</td>\n",
       "      <td>132</td>\n",
       "      <td>31</td>\n",
       "      <td>235</td>\n",
       "      <td>39</td>\n",
       "      <td>19065</td>\n",
       "      <td>...</td>\n",
       "      <td>0</td>\n",
       "      <td>2503169</td>\n",
       "      <td>106985</td>\n",
       "      <td>19320</td>\n",
       "      <td>76808</td>\n",
       "      <td>0</td>\n",
       "      <td>0</td>\n",
       "      <td>0</td>\n",
       "      <td>0.042739</td>\n",
       "      <td>0.717932</td>\n",
       "    </tr>\n",
       "    <tr>\n",
       "      <th>4</th>\n",
       "      <td>1989</td>\n",
       "      <td>WHEAT</td>\n",
       "      <td>WA</td>\n",
       "      <td>Whitman</td>\n",
       "      <td>1215</td>\n",
       "      <td>1215</td>\n",
       "      <td>353</td>\n",
       "      <td>2062</td>\n",
       "      <td>470</td>\n",
       "      <td>280461</td>\n",
       "      <td>...</td>\n",
       "      <td>0</td>\n",
       "      <td>40049559</td>\n",
       "      <td>1117467</td>\n",
       "      <td>193273</td>\n",
       "      <td>1378891</td>\n",
       "      <td>0</td>\n",
       "      <td>0</td>\n",
       "      <td>0</td>\n",
       "      <td>0.027902</td>\n",
       "      <td>1.233943</td>\n",
       "    </tr>\n",
       "  </tbody>\n",
       "</table>\n",
       "<p>5 rows × 21 columns</p>\n",
       "</div>"
      ],
      "text/plain": [
       "   Commodity Year         Commodity Name State Abbrv County Name  \\\n",
       "0            1989  All Other Commodities          WA    Okanogan   \n",
       "1            1989  All Other Commodities          WA      Skagit   \n",
       "2            1989                  WHEAT          WA     Lincoln   \n",
       "3            1989                  WHEAT          WA     Spokane   \n",
       "4            1989                  WHEAT          WA     Whitman   \n",
       "\n",
       "   Policies Sold  Policies Earning Prem  Policies Indemnified  \\\n",
       "0              1                      1                     0   \n",
       "1              2                      2                     0   \n",
       "2            747                    747                   431   \n",
       "3            132                    132                    31   \n",
       "4           1215                   1215                   353   \n",
       "\n",
       "   Units Earning Prem  Units Indemnified  Quantity  ...  \\\n",
       "0                   2                  0       122  ...   \n",
       "1                   2                  0       147  ...   \n",
       "2                1481                695    200126  ...   \n",
       "3                 235                 39     19065  ...   \n",
       "4                2062                470    280461  ...   \n",
       "\n",
       "  Companion/Endorsed Acres  Liabilities ($)  Total Prem ($)  Subsidy ($)  \\\n",
       "0                        0            10417             987          168   \n",
       "1                        0            14586             604          136   \n",
       "2                        0         22702070          870493       150821   \n",
       "3                        0          2503169          106985        19320   \n",
       "4                        0         40049559         1117467       193273   \n",
       "\n",
       "   Indemnity ($)  EFA Prem Discount ($)  Addnl Subsidy ($)  State Subsidy ($)  \\\n",
       "0              0                      0                  0                  0   \n",
       "1              0                      0                  0                  0   \n",
       "2        1709526                      0                  0                  0   \n",
       "3          76808                      0                  0                  0   \n",
       "4        1378891                      0                  0                  0   \n",
       "\n",
       "   Earn Prem Rate  Loss Ratio  \n",
       "0        0.094748    0.000000  \n",
       "1        0.041409    0.000000  \n",
       "2        0.038344    1.963859  \n",
       "3        0.042739    0.717932  \n",
       "4        0.027902    1.233943  \n",
       "\n",
       "[5 rows x 21 columns]"
      ]
     },
     "execution_count": 3,
     "metadata": {},
     "output_type": "execute_result"
    }
   ],
   "source": [
    "df_WA = pd.read_excel(\"Data_KS_WA/WA/WA_Report_Generator.xlsx\")\n",
    "#df_WA = df_WA[df_WA['Commodity Name'] != 'All Other Commodities']\n",
    "df_WA_Skagit = df_WA[df_WA['County Name'] == 'Skagit']\n",
    "df_WA_Whitman = df_WA[df_WA['County Name'] == 'Whitman']\n",
    "\n",
    "df_WA.head()"
   ]
  },
  {
   "cell_type": "code",
   "execution_count": 4,
   "metadata": {},
   "outputs": [
    {
     "name": "stdout",
     "output_type": "stream",
     "text": [
      "(26, 21)\n",
      "(26, 21)\n"
     ]
    },
    {
     "data": {
      "text/html": [
       "<div>\n",
       "<style scoped>\n",
       "    .dataframe tbody tr th:only-of-type {\n",
       "        vertical-align: middle;\n",
       "    }\n",
       "\n",
       "    .dataframe tbody tr th {\n",
       "        vertical-align: top;\n",
       "    }\n",
       "\n",
       "    .dataframe thead th {\n",
       "        text-align: right;\n",
       "    }\n",
       "</style>\n",
       "<table border=\"1\" class=\"dataframe\">\n",
       "  <thead>\n",
       "    <tr style=\"text-align: right;\">\n",
       "      <th></th>\n",
       "      <th>Commodity Year</th>\n",
       "      <th>Commodity Name</th>\n",
       "      <th>State Abbrv</th>\n",
       "      <th>County Name</th>\n",
       "      <th>Policies Sold</th>\n",
       "      <th>Policies Earning Prem</th>\n",
       "      <th>Policies Indemnified</th>\n",
       "      <th>Units Earning Prem</th>\n",
       "      <th>Units Indemnified</th>\n",
       "      <th>Quantity</th>\n",
       "      <th>...</th>\n",
       "      <th>Companion/Endorsed Acres</th>\n",
       "      <th>Liabilities ($)</th>\n",
       "      <th>Total Prem ($)</th>\n",
       "      <th>Subsidy ($)</th>\n",
       "      <th>Indemnity ($)</th>\n",
       "      <th>EFA Prem Discount ($)</th>\n",
       "      <th>Addnl Subsidy ($)</th>\n",
       "      <th>State Subsidy ($)</th>\n",
       "      <th>Earn Prem Rate</th>\n",
       "      <th>Loss Ratio</th>\n",
       "    </tr>\n",
       "  </thead>\n",
       "  <tbody>\n",
       "    <tr>\n",
       "      <th>0</th>\n",
       "      <td>1989</td>\n",
       "      <td>WHEAT</td>\n",
       "      <td>WA</td>\n",
       "      <td>Whitman</td>\n",
       "      <td>1215</td>\n",
       "      <td>1215</td>\n",
       "      <td>353</td>\n",
       "      <td>2062</td>\n",
       "      <td>470</td>\n",
       "      <td>280461</td>\n",
       "      <td>...</td>\n",
       "      <td>0</td>\n",
       "      <td>40049559</td>\n",
       "      <td>1117467</td>\n",
       "      <td>193273</td>\n",
       "      <td>1378891</td>\n",
       "      <td>0</td>\n",
       "      <td>0</td>\n",
       "      <td>0</td>\n",
       "      <td>0.027902</td>\n",
       "      <td>1.233943</td>\n",
       "    </tr>\n",
       "    <tr>\n",
       "      <th>1</th>\n",
       "      <td>1995</td>\n",
       "      <td>WHEAT</td>\n",
       "      <td>WA</td>\n",
       "      <td>Whitman</td>\n",
       "      <td>2559</td>\n",
       "      <td>2479</td>\n",
       "      <td>258</td>\n",
       "      <td>4246</td>\n",
       "      <td>378</td>\n",
       "      <td>456749</td>\n",
       "      <td>...</td>\n",
       "      <td>0</td>\n",
       "      <td>43039860</td>\n",
       "      <td>1326253</td>\n",
       "      <td>519252</td>\n",
       "      <td>872202</td>\n",
       "      <td>0</td>\n",
       "      <td>0</td>\n",
       "      <td>0</td>\n",
       "      <td>0.030814</td>\n",
       "      <td>0.657643</td>\n",
       "    </tr>\n",
       "    <tr>\n",
       "      <th>2</th>\n",
       "      <td>1996</td>\n",
       "      <td>WHEAT</td>\n",
       "      <td>WA</td>\n",
       "      <td>Whitman</td>\n",
       "      <td>2019</td>\n",
       "      <td>1652</td>\n",
       "      <td>49</td>\n",
       "      <td>3006</td>\n",
       "      <td>68</td>\n",
       "      <td>344713</td>\n",
       "      <td>...</td>\n",
       "      <td>0</td>\n",
       "      <td>37169838</td>\n",
       "      <td>1180771</td>\n",
       "      <td>446507</td>\n",
       "      <td>73371</td>\n",
       "      <td>0</td>\n",
       "      <td>0</td>\n",
       "      <td>0</td>\n",
       "      <td>0.031766</td>\n",
       "      <td>0.062138</td>\n",
       "    </tr>\n",
       "    <tr>\n",
       "      <th>3</th>\n",
       "      <td>1997</td>\n",
       "      <td>WHEAT</td>\n",
       "      <td>WA</td>\n",
       "      <td>Whitman</td>\n",
       "      <td>1521</td>\n",
       "      <td>1400</td>\n",
       "      <td>36</td>\n",
       "      <td>2666</td>\n",
       "      <td>36</td>\n",
       "      <td>309647</td>\n",
       "      <td>...</td>\n",
       "      <td>0</td>\n",
       "      <td>39384984</td>\n",
       "      <td>1282439</td>\n",
       "      <td>458738</td>\n",
       "      <td>33294</td>\n",
       "      <td>0</td>\n",
       "      <td>0</td>\n",
       "      <td>0</td>\n",
       "      <td>0.032561</td>\n",
       "      <td>0.025961</td>\n",
       "    </tr>\n",
       "    <tr>\n",
       "      <th>4</th>\n",
       "      <td>1998</td>\n",
       "      <td>WHEAT</td>\n",
       "      <td>WA</td>\n",
       "      <td>Whitman</td>\n",
       "      <td>1396</td>\n",
       "      <td>1263</td>\n",
       "      <td>78</td>\n",
       "      <td>2558</td>\n",
       "      <td>147</td>\n",
       "      <td>304432</td>\n",
       "      <td>...</td>\n",
       "      <td>0</td>\n",
       "      <td>37415405</td>\n",
       "      <td>1169009</td>\n",
       "      <td>420724</td>\n",
       "      <td>333149</td>\n",
       "      <td>0</td>\n",
       "      <td>0</td>\n",
       "      <td>0</td>\n",
       "      <td>0.031244</td>\n",
       "      <td>0.284984</td>\n",
       "    </tr>\n",
       "  </tbody>\n",
       "</table>\n",
       "<p>5 rows × 21 columns</p>\n",
       "</div>"
      ],
      "text/plain": [
       "   Commodity Year Commodity Name State Abbrv County Name  Policies Sold  \\\n",
       "0            1989          WHEAT          WA     Whitman           1215   \n",
       "1            1995          WHEAT          WA     Whitman           2559   \n",
       "2            1996          WHEAT          WA     Whitman           2019   \n",
       "3            1997          WHEAT          WA     Whitman           1521   \n",
       "4            1998          WHEAT          WA     Whitman           1396   \n",
       "\n",
       "   Policies Earning Prem  Policies Indemnified  Units Earning Prem  \\\n",
       "0                   1215                   353                2062   \n",
       "1                   2479                   258                4246   \n",
       "2                   1652                    49                3006   \n",
       "3                   1400                    36                2666   \n",
       "4                   1263                    78                2558   \n",
       "\n",
       "   Units Indemnified  Quantity  ... Companion/Endorsed Acres  Liabilities ($)  \\\n",
       "0                470    280461  ...                        0         40049559   \n",
       "1                378    456749  ...                        0         43039860   \n",
       "2                 68    344713  ...                        0         37169838   \n",
       "3                 36    309647  ...                        0         39384984   \n",
       "4                147    304432  ...                        0         37415405   \n",
       "\n",
       "   Total Prem ($)  Subsidy ($)  Indemnity ($)  EFA Prem Discount ($)  \\\n",
       "0         1117467       193273        1378891                      0   \n",
       "1         1326253       519252         872202                      0   \n",
       "2         1180771       446507          73371                      0   \n",
       "3         1282439       458738          33294                      0   \n",
       "4         1169009       420724         333149                      0   \n",
       "\n",
       "   Addnl Subsidy ($)  State Subsidy ($)  Earn Prem Rate  Loss Ratio  \n",
       "0                  0                  0        0.027902    1.233943  \n",
       "1                  0                  0        0.030814    0.657643  \n",
       "2                  0                  0        0.031766    0.062138  \n",
       "3                  0                  0        0.032561    0.025961  \n",
       "4                  0                  0        0.031244    0.284984  \n",
       "\n",
       "[5 rows x 21 columns]"
      ]
     },
     "execution_count": 4,
     "metadata": {},
     "output_type": "execute_result"
    }
   ],
   "source": [
    "df_WA_Skagit_selected = df_WA_Skagit[['Commodity Year', 'Loss Ratio']]\n",
    "df_WA_Whitman_truncated = df_WA_Whitman.merge(df_WA_Skagit_selected, on=['Commodity Year']).drop(labels='Loss Ratio_y', axis=1)\n",
    "df_WA_Whitman_truncated = df_WA_Whitman_truncated.rename(columns={'Loss Ratio_x': 'Loss Ratio'})\n",
    "\n",
    "print(df_WA_Skagit.shape)\n",
    "print(df_WA_Whitman_truncated.shape)\n",
    "df_WA_Whitman_truncated.head()"
   ]
  },
  {
   "cell_type": "code",
   "execution_count": 5,
   "metadata": {
    "scrolled": true
   },
   "outputs": [
    {
     "name": "stdout",
     "output_type": "stream",
     "text": [
      "Skagit: 26\n",
      "[0.0, 0.0, 0.118555, 0.222476, 0.515913, 1.53755, 2.490043, 0.0, 0.26381, 0.149766, 0.787866, 0.767894, 0.0, 0.542462, 2.080537, 2.196538, 1.033007, 2.498145, 2.935736, 0.859945, 2.528034, 5.827459, 2.190602, 2.821362, 2.076544, 0.0]\n",
      "Whitman: 31\n",
      "[1.233943, 0.088986, 0.526554, 1.555545, 0.126128, 1.693317, 0.657643, 0.062138, 0.025961, 0.284984, 0.816234, 0.363594, 0.517444, 0.424758, 0.453011, 0.14495, 0.788827, 0.350659, 0.313869, 1.092137, 3.15679, 0.442402, 0.243944, 0.052243, 0.216395, 1.888145, 2.903816, 0.379717, 0.685765, 0.088343, 0.628454]\n",
      "WA: 26\n",
      "[0.6169715, 0.3288215, 0.0903465, 0.12421850000000001, 0.4004485, 1.176892, 1.4268185, 0.258722, 0.34428400000000003, 0.3013885, 0.466408, 0.7783605, 0.1753295, 0.4281655, 1.5863369999999999, 2.6766639999999997, 0.7377045, 1.3710445, 1.4939894999999999, 0.53817, 2.2080895, 4.3656375, 1.2851595, 1.7535635, 1.0824435000000001, 0.314227]\n"
     ]
    }
   ],
   "source": [
    "Skagit_LR = list(df_WA_Skagit['Loss Ratio'])\n",
    "Whitman_LR = list(df_WA_Whitman['Loss Ratio'])\n",
    "Whitman_LR_truncated = list(df_WA_Whitman_truncated['Loss Ratio']) # to keep same size as Skagit, for WA_avg_LR\n",
    "WA_avg_LR = list(np.average(np.array([Skagit_LR, Whitman_LR_truncated]), axis=0))\n",
    "\n",
    "print('Skagit:', len(Skagit_LR)) # loss ratio\n",
    "print(Skagit_LR)\n",
    "\n",
    "print('Whitman:', len(Whitman_LR)) # loss ratio\n",
    "print(Whitman_LR)\n",
    "\n",
    "print('WA:', len(WA_avg_LR))\n",
    "print(WA_avg_LR)"
   ]
  },
  {
   "cell_type": "markdown",
   "metadata": {},
   "source": [
    "Kansas — Grant, Morton"
   ]
  },
  {
   "cell_type": "code",
   "execution_count": 6,
   "metadata": {},
   "outputs": [
    {
     "data": {
      "text/html": [
       "<div>\n",
       "<style scoped>\n",
       "    .dataframe tbody tr th:only-of-type {\n",
       "        vertical-align: middle;\n",
       "    }\n",
       "\n",
       "    .dataframe tbody tr th {\n",
       "        vertical-align: top;\n",
       "    }\n",
       "\n",
       "    .dataframe thead th {\n",
       "        text-align: right;\n",
       "    }\n",
       "</style>\n",
       "<table border=\"1\" class=\"dataframe\">\n",
       "  <thead>\n",
       "    <tr style=\"text-align: right;\">\n",
       "      <th></th>\n",
       "      <th>Commodity Year</th>\n",
       "      <th>Commodity Name</th>\n",
       "      <th>State Abbrv</th>\n",
       "      <th>County Name</th>\n",
       "      <th>Policies Sold</th>\n",
       "      <th>Policies Earning Prem</th>\n",
       "      <th>Policies Indemnified</th>\n",
       "      <th>Units Earning Prem</th>\n",
       "      <th>Units Indemnified</th>\n",
       "      <th>Quantity</th>\n",
       "      <th>...</th>\n",
       "      <th>Companion/Endorsed Acres</th>\n",
       "      <th>Liabilities ($)</th>\n",
       "      <th>Total Prem ($)</th>\n",
       "      <th>Subsidy ($)</th>\n",
       "      <th>Indemnity ($)</th>\n",
       "      <th>EFA Prem Discount ($)</th>\n",
       "      <th>Addnl Subsidy ($)</th>\n",
       "      <th>State Subsidy ($)</th>\n",
       "      <th>Earn Prem Rate</th>\n",
       "      <th>Loss Ratio</th>\n",
       "    </tr>\n",
       "  </thead>\n",
       "  <tbody>\n",
       "    <tr>\n",
       "      <th>0</th>\n",
       "      <td>1989</td>\n",
       "      <td>WHEAT</td>\n",
       "      <td>KS</td>\n",
       "      <td>Grant</td>\n",
       "      <td>49</td>\n",
       "      <td>47</td>\n",
       "      <td>28</td>\n",
       "      <td>145</td>\n",
       "      <td>71</td>\n",
       "      <td>10051</td>\n",
       "      <td>...</td>\n",
       "      <td>0</td>\n",
       "      <td>685702</td>\n",
       "      <td>71500</td>\n",
       "      <td>21381</td>\n",
       "      <td>158457</td>\n",
       "      <td>0</td>\n",
       "      <td>0</td>\n",
       "      <td>0</td>\n",
       "      <td>0.104272</td>\n",
       "      <td>2.216181</td>\n",
       "    </tr>\n",
       "    <tr>\n",
       "      <th>1</th>\n",
       "      <td>1989</td>\n",
       "      <td>WHEAT</td>\n",
       "      <td>KS</td>\n",
       "      <td>Gray</td>\n",
       "      <td>129</td>\n",
       "      <td>126</td>\n",
       "      <td>76</td>\n",
       "      <td>251</td>\n",
       "      <td>124</td>\n",
       "      <td>20935</td>\n",
       "      <td>...</td>\n",
       "      <td>0</td>\n",
       "      <td>1229482</td>\n",
       "      <td>127161</td>\n",
       "      <td>37941</td>\n",
       "      <td>365098</td>\n",
       "      <td>0</td>\n",
       "      <td>0</td>\n",
       "      <td>0</td>\n",
       "      <td>0.103426</td>\n",
       "      <td>2.871147</td>\n",
       "    </tr>\n",
       "    <tr>\n",
       "      <th>2</th>\n",
       "      <td>1989</td>\n",
       "      <td>WHEAT</td>\n",
       "      <td>KS</td>\n",
       "      <td>Haskell</td>\n",
       "      <td>75</td>\n",
       "      <td>71</td>\n",
       "      <td>34</td>\n",
       "      <td>181</td>\n",
       "      <td>73</td>\n",
       "      <td>13570</td>\n",
       "      <td>...</td>\n",
       "      <td>0</td>\n",
       "      <td>969071</td>\n",
       "      <td>80135</td>\n",
       "      <td>23696</td>\n",
       "      <td>131035</td>\n",
       "      <td>0</td>\n",
       "      <td>0</td>\n",
       "      <td>0</td>\n",
       "      <td>0.082692</td>\n",
       "      <td>1.635178</td>\n",
       "    </tr>\n",
       "    <tr>\n",
       "      <th>3</th>\n",
       "      <td>1989</td>\n",
       "      <td>WHEAT</td>\n",
       "      <td>KS</td>\n",
       "      <td>Kearny</td>\n",
       "      <td>63</td>\n",
       "      <td>57</td>\n",
       "      <td>28</td>\n",
       "      <td>182</td>\n",
       "      <td>42</td>\n",
       "      <td>15541</td>\n",
       "      <td>...</td>\n",
       "      <td>0</td>\n",
       "      <td>921050</td>\n",
       "      <td>116608</td>\n",
       "      <td>34732</td>\n",
       "      <td>87687</td>\n",
       "      <td>0</td>\n",
       "      <td>0</td>\n",
       "      <td>0</td>\n",
       "      <td>0.126603</td>\n",
       "      <td>0.751980</td>\n",
       "    </tr>\n",
       "    <tr>\n",
       "      <th>4</th>\n",
       "      <td>1989</td>\n",
       "      <td>WHEAT</td>\n",
       "      <td>KS</td>\n",
       "      <td>Morton</td>\n",
       "      <td>74</td>\n",
       "      <td>72</td>\n",
       "      <td>57</td>\n",
       "      <td>280</td>\n",
       "      <td>197</td>\n",
       "      <td>20192</td>\n",
       "      <td>...</td>\n",
       "      <td>0</td>\n",
       "      <td>1193355</td>\n",
       "      <td>138764</td>\n",
       "      <td>40781</td>\n",
       "      <td>441029</td>\n",
       "      <td>0</td>\n",
       "      <td>0</td>\n",
       "      <td>0</td>\n",
       "      <td>0.116280</td>\n",
       "      <td>3.178266</td>\n",
       "    </tr>\n",
       "  </tbody>\n",
       "</table>\n",
       "<p>5 rows × 21 columns</p>\n",
       "</div>"
      ],
      "text/plain": [
       "   Commodity Year Commodity Name State Abbrv County Name  Policies Sold  \\\n",
       "0            1989          WHEAT          KS       Grant             49   \n",
       "1            1989          WHEAT          KS        Gray            129   \n",
       "2            1989          WHEAT          KS     Haskell             75   \n",
       "3            1989          WHEAT          KS      Kearny             63   \n",
       "4            1989          WHEAT          KS      Morton             74   \n",
       "\n",
       "   Policies Earning Prem  Policies Indemnified  Units Earning Prem  \\\n",
       "0                     47                    28                 145   \n",
       "1                    126                    76                 251   \n",
       "2                     71                    34                 181   \n",
       "3                     57                    28                 182   \n",
       "4                     72                    57                 280   \n",
       "\n",
       "   Units Indemnified  Quantity  ... Companion/Endorsed Acres  Liabilities ($)  \\\n",
       "0                 71     10051  ...                        0           685702   \n",
       "1                124     20935  ...                        0          1229482   \n",
       "2                 73     13570  ...                        0           969071   \n",
       "3                 42     15541  ...                        0           921050   \n",
       "4                197     20192  ...                        0          1193355   \n",
       "\n",
       "   Total Prem ($)  Subsidy ($)  Indemnity ($)  EFA Prem Discount ($)  \\\n",
       "0           71500        21381         158457                      0   \n",
       "1          127161        37941         365098                      0   \n",
       "2           80135        23696         131035                      0   \n",
       "3          116608        34732          87687                      0   \n",
       "4          138764        40781         441029                      0   \n",
       "\n",
       "   Addnl Subsidy ($)  State Subsidy ($)  Earn Prem Rate  Loss Ratio  \n",
       "0                  0                  0        0.104272    2.216181  \n",
       "1                  0                  0        0.103426    2.871147  \n",
       "2                  0                  0        0.082692    1.635178  \n",
       "3                  0                  0        0.126603    0.751980  \n",
       "4                  0                  0        0.116280    3.178266  \n",
       "\n",
       "[5 rows x 21 columns]"
      ]
     },
     "execution_count": 6,
     "metadata": {},
     "output_type": "execute_result"
    }
   ],
   "source": [
    "df_KS = pd.read_excel(\"Data_KS_WA/KS/KS_Report_Generator.xlsx\")\n",
    "#df_KS = df_KS[df_KS['Commodity Name'] != 'All Other Commodities']\n",
    "df_KS_Grant = df_KS[df_KS['County Name'] == 'Grant']\n",
    "df_KS_Morton = df_KS[df_KS['County Name'] == 'Morton']\n",
    "\n",
    "df_KS.head()"
   ]
  },
  {
   "cell_type": "code",
   "execution_count": 7,
   "metadata": {},
   "outputs": [
    {
     "name": "stdout",
     "output_type": "stream",
     "text": [
      "Grant: 31\n",
      "[2.216181, 0.8195, 0.02655, 0.160988, 0.156027, 3.751074, 1.767409, 4.311336, 0.10953, 0.193834, 0.0, 0.562748, 0.797164, 2.19443, 1.688927, 1.546669, 0.187529, 3.785357, 0.071094, 1.427966, 1.038, 0.049296, 2.410642, 1.238957, 2.413, 2.023561, 1.524709, 0.112038, 1.133707, 0.130522, 0.21751]\n",
      "Morton: 31\n",
      "[3.178266, 0.001131, 0.098902, 0.145243, 1.669449, 3.655929, 4.335037, 6.007095, 0.307944, 0.152911, 0.063682, 0.27355, 0.642943, 3.595545, 1.105589, 1.227428, 0.326681, 1.981035, 0.03953, 2.176164, 1.523669, 0.270633, 2.779944, 1.239923, 2.669092, 1.300229, 1.506515, 0.185236, 0.940257, 0.487913, 0.111321]\n",
      "KS: 31\n",
      "[2.6972234999999998, 0.4103155, 0.062726, 0.15311550000000002, 0.9127379999999999, 3.7035015, 3.051223, 5.1592155, 0.208737, 0.17337249999999998, 0.031841, 0.418149, 0.7200535, 2.8949875, 1.397258, 1.3870485000000001, 0.25710500000000003, 2.883196, 0.055312, 1.802065, 1.2808345, 0.1599645, 2.595293, 1.23944, 2.5410459999999997, 1.661895, 1.515612, 0.14863700000000002, 1.036982, 0.3092175, 0.1644155]\n"
     ]
    }
   ],
   "source": [
    "Grant_LR = list(df_KS_Grant['Loss Ratio'])\n",
    "Morton_LR = list(df_KS_Morton['Loss Ratio'])\n",
    "KS_avg_LR = list(np.average(np.array([Grant_LR, Morton_LR]), axis=0))\n",
    "\n",
    "print('Grant:', len(Grant_LR)) # loss ratio\n",
    "print(Grant_LR)\n",
    "\n",
    "print('Morton:', len(Morton_LR)) # loss ratio\n",
    "print(Morton_LR)\n",
    "\n",
    "print('KS:', len(KS_avg_LR))\n",
    "print(KS_avg_LR)"
   ]
  },
  {
   "cell_type": "markdown",
   "metadata": {},
   "source": [
    "t-test"
   ]
  },
  {
   "cell_type": "code",
   "execution_count": 8,
   "metadata": {},
   "outputs": [
    {
     "data": {
      "text/plain": [
       "Ttest_indResult(statistic=-1.0061953846524692, pvalue=0.3187279682930706)"
      ]
     },
     "execution_count": 8,
     "metadata": {},
     "output_type": "execute_result"
    }
   ],
   "source": [
    "stats.ttest_ind(WA_avg_LR, KS_avg_LR) # rejecting null hypothesis"
   ]
  },
  {
   "cell_type": "markdown",
   "metadata": {},
   "source": [
    "### Washington — Skagit, Whitman"
   ]
  },
  {
   "cell_type": "code",
   "execution_count": 9,
   "metadata": {},
   "outputs": [
    {
     "data": {
      "text/plain": [
       "Ttest_indResult(statistic=2.0789179471956665, pvalue=0.04230190046540257)"
      ]
     },
     "execution_count": 9,
     "metadata": {},
     "output_type": "execute_result"
    }
   ],
   "source": [
    "stats.ttest_ind(Skagit_LR, Whitman_LR) # failing to reject null hypothesis (no difference)"
   ]
  },
  {
   "cell_type": "markdown",
   "metadata": {},
   "source": [
    "### Kansas — Grant, Morton"
   ]
  },
  {
   "cell_type": "code",
   "execution_count": 10,
   "metadata": {},
   "outputs": [
    {
     "data": {
      "text/plain": [
       "Ttest_indResult(statistic=-0.5518573687360557, pvalue=0.5830957847768103)"
      ]
     },
     "execution_count": 10,
     "metadata": {},
     "output_type": "execute_result"
    }
   ],
   "source": [
    "stats.ttest_ind(Grant_LR, Morton_LR) # rejecting null hypothesis"
   ]
  },
  {
   "cell_type": "markdown",
   "metadata": {},
   "source": [
    "### t-test experiments"
   ]
  },
  {
   "cell_type": "code",
   "execution_count": 11,
   "metadata": {},
   "outputs": [
    {
     "name": "stdout",
     "output_type": "stream",
     "text": [
      "Lincoln: 31 Lincoln: 31 Ttest_indResult(statistic=0.0, pvalue=1.0)\n",
      "Lincoln: 31 Okanogan: 30 Ttest_indResult(statistic=0.2956146705710941, pvalue=0.7685622778154193)\n",
      "Lincoln: 31 Skagit: 26 Ttest_indResult(statistic=-1.1806415632971614, pvalue=0.242825894166097)\n",
      "Lincoln: 31 Spokane: 31 Ttest_indResult(statistic=0.6124578862240583, pvalue=0.5425491657067616)\n",
      "Lincoln: 31 Whitman: 31 Ttest_indResult(statistic=0.7309032190319998, pvalue=0.467682998413255)\n",
      "Okanogan: 30 Lincoln: 31 Ttest_indResult(statistic=-0.2956146705710941, pvalue=0.7685622778154193)\n",
      "Okanogan: 30 Okanogan: 30 Ttest_indResult(statistic=0.0, pvalue=1.0)\n",
      "Okanogan: 30 Skagit: 26 Ttest_indResult(statistic=-1.3786244885788634, pvalue=0.1736952625276882)\n",
      "Okanogan: 30 Spokane: 31 Ttest_indResult(statistic=0.22685728777047626, pvalue=0.8213189119715157)\n",
      "Okanogan: 30 Whitman: 31 Ttest_indResult(statistic=0.3257056467804712, pvalue=0.7457994279522955)\n",
      "Skagit: 26 Lincoln: 31 Ttest_indResult(statistic=1.1806415632971614, pvalue=0.242825894166097)\n",
      "Skagit: 26 Okanogan: 30 Ttest_indResult(statistic=1.3786244885788634, pvalue=0.1736952625276882)\n",
      "Skagit: 26 Skagit: 26 Ttest_indResult(statistic=0.0, pvalue=1.0)\n",
      "Skagit: 26 Spokane: 31 Ttest_indResult(statistic=1.9328079023788896, pvalue=0.05841526908438247)\n",
      "Skagit: 26 Whitman: 31 Ttest_indResult(statistic=2.0789179471956665, pvalue=0.04230190046540257)\n",
      "Spokane: 31 Lincoln: 31 Ttest_indResult(statistic=-0.6124578862240583, pvalue=0.5425491657067616)\n",
      "Spokane: 31 Okanogan: 30 Ttest_indResult(statistic=-0.22685728777047626, pvalue=0.8213189119715157)\n",
      "Spokane: 31 Skagit: 26 Ttest_indResult(statistic=-1.9328079023788896, pvalue=0.05841526908438247)\n",
      "Spokane: 31 Spokane: 31 Ttest_indResult(statistic=0.0, pvalue=1.0)\n",
      "Spokane: 31 Whitman: 31 Ttest_indResult(statistic=0.12856503986060278, pvalue=0.8981318101507696)\n",
      "Whitman: 31 Lincoln: 31 Ttest_indResult(statistic=-0.7309032190319998, pvalue=0.467682998413255)\n",
      "Whitman: 31 Okanogan: 30 Ttest_indResult(statistic=-0.3257056467804712, pvalue=0.7457994279522955)\n",
      "Whitman: 31 Skagit: 26 Ttest_indResult(statistic=-2.0789179471956665, pvalue=0.04230190046540257)\n",
      "Whitman: 31 Spokane: 31 Ttest_indResult(statistic=-0.12856503986060278, pvalue=0.8981318101507696)\n",
      "Whitman: 31 Whitman: 31 Ttest_indResult(statistic=0.0, pvalue=1.0)\n"
     ]
    }
   ],
   "source": [
    "WA_counties = ['Lincoln', 'Okanogan', 'Skagit', 'Spokane', 'Whitman']\n",
    "\n",
    "for county_1 in WA_counties:\n",
    "    for county_2 in WA_counties:\n",
    "        WA_county_1 = list(df_WA[df_WA['County Name'] == county_1]['Loss Ratio'])\n",
    "        WA_county_2 = list(df_WA[df_WA['County Name'] == county_2]['Loss Ratio'])\n",
    "        print(county_1 + ':', len(WA_county_1), county_2 + ':', len(WA_county_2), \n",
    "              stats.ttest_ind(WA_county_1, WA_county_2))"
   ]
  },
  {
   "cell_type": "markdown",
   "metadata": {},
   "source": [
    "### Plots"
   ]
  },
  {
   "cell_type": "code",
   "execution_count": 12,
   "metadata": {},
   "outputs": [
    {
     "data": {
      "image/png": "[encoded data removed]",
      "text/plain": [
       "<Figure size 750x500 with 1 Axes>"
      ]
     },
     "metadata": {
      "needs_background": "light"
     },
     "output_type": "display_data"
    }
   ],
   "source": [
    "WA_histogram = sns.distplot(WA_avg_LR, kde=False, rug=True, bins=5)\n",
    "plt.grid(linestyle='-', linewidth=0.25)\n",
    "plt.title('Loss Ratio (WA)')\n",
    "plt.xlabel('loss ratio')\n",
    "plt.ylabel('count')\n",
    "plt.show()"
   ]
  },
  {
   "cell_type": "code",
   "execution_count": 13,
   "metadata": {},
   "outputs": [
    {
     "data": {
      "image/png": "[encoded data removed]",
      "text/plain": [
       "<Figure size 750x500 with 1 Axes>"
      ]
     },
     "metadata": {
      "needs_background": "light"
     },
     "output_type": "display_data"
    }
   ],
   "source": [
    "KS_histogram = sns.distplot(KS_avg_LR, kde=False, rug=True, bins=5)\n",
    "plt.grid(linestyle='-', linewidth=0.25)\n",
    "plt.title('Loss Ratio (KS)')\n",
    "plt.xlabel('loss ratio')\n",
    "plt.ylabel('count')\n",
    "plt.show()"
   ]
  },
  {
   "cell_type": "code",
   "execution_count": 14,
   "metadata": {},
   "outputs": [
    {
     "data": {
      "image/png": "[encoded data removed]",
      "text/plain": [
       "<Figure size 750x500 with 1 Axes>"
      ]
     },
     "metadata": {
      "needs_background": "light"
     },
     "output_type": "display_data"
    }
   ],
   "source": [
    "#plt.hist(WA_avg_LR, bins=5, label='WA', color='blue', alpha=0.5)\n",
    "#plt.hist(KS_avg_LR, bins=5, label='KS', color='lightblue', alpha=0.5)\n",
    "sns.distplot(KS_avg_LR, kde=False, rug=True, bins=5, color='dodgerblue', label='KS')\n",
    "sns.distplot(WA_avg_LR, kde=False, rug=True, bins=5, color='orchid', label='WA')\n",
    "\n",
    "plt.legend(loc='best')\n",
    "plt.title('Loss Ratio Distributions')\n",
    "plt.xlabel('loss ratio')\n",
    "plt.ylabel('count')\n",
    "plt.grid(linestyle='-', linewidth=0.25)\n",
    "plt.show()"
   ]
  },
  {
   "cell_type": "code",
   "execution_count": 15,
   "metadata": {},
   "outputs": [
    {
     "name": "stdout",
     "output_type": "stream",
     "text": [
      "(57, 2)\n"
     ]
    },
    {
     "data": {
      "text/html": [
       "<div>\n",
       "<style scoped>\n",
       "    .dataframe tbody tr th:only-of-type {\n",
       "        vertical-align: middle;\n",
       "    }\n",
       "\n",
       "    .dataframe tbody tr th {\n",
       "        vertical-align: top;\n",
       "    }\n",
       "\n",
       "    .dataframe thead th {\n",
       "        text-align: right;\n",
       "    }\n",
       "</style>\n",
       "<table border=\"1\" class=\"dataframe\">\n",
       "  <thead>\n",
       "    <tr style=\"text-align: right;\">\n",
       "      <th></th>\n",
       "      <th>loss ratio</th>\n",
       "      <th>County</th>\n",
       "    </tr>\n",
       "  </thead>\n",
       "  <tbody>\n",
       "    <tr>\n",
       "      <th>0</th>\n",
       "      <td>2.697223</td>\n",
       "      <td>KS</td>\n",
       "    </tr>\n",
       "    <tr>\n",
       "      <th>1</th>\n",
       "      <td>0.410315</td>\n",
       "      <td>KS</td>\n",
       "    </tr>\n",
       "    <tr>\n",
       "      <th>2</th>\n",
       "      <td>0.062726</td>\n",
       "      <td>KS</td>\n",
       "    </tr>\n",
       "    <tr>\n",
       "      <th>3</th>\n",
       "      <td>0.153116</td>\n",
       "      <td>KS</td>\n",
       "    </tr>\n",
       "    <tr>\n",
       "      <th>4</th>\n",
       "      <td>0.912738</td>\n",
       "      <td>KS</td>\n",
       "    </tr>\n",
       "  </tbody>\n",
       "</table>\n",
       "</div>"
      ],
      "text/plain": [
       "   loss ratio County\n",
       "0    2.697223     KS\n",
       "1    0.410315     KS\n",
       "2    0.062726     KS\n",
       "3    0.153116     KS\n",
       "4    0.912738     KS"
      ]
     },
     "execution_count": 15,
     "metadata": {},
     "output_type": "execute_result"
    }
   ],
   "source": [
    "df_KS_avg_LR = pd.DataFrame(KS_avg_LR, columns=['loss ratio'])\n",
    "df_KS_avg_LR['County'] = 'KS'\n",
    "df_WA_avg_LR = pd.DataFrame(WA_avg_LR, columns=['loss ratio'])\n",
    "df_WA_avg_LR['County'] = 'WA'\n",
    "df_KS_WA = pd.concat([df_KS_avg_LR, df_WA_avg_LR])\n",
    "\n",
    "print(df_KS_WA.shape)\n",
    "df_KS_WA.head()"
   ]
  },
  {
   "cell_type": "code",
   "execution_count": 40,
   "metadata": {},
   "outputs": [
    {
     "data": {
      "image/png": "[encoded data removed]",
      "text/plain": [
       "<Figure size 750x500 with 1 Axes>"
      ]
     },
     "metadata": {
      "needs_background": "light"
     },
     "output_type": "display_data"
    }
   ],
   "source": [
    "sns.boxplot(x='County', y='loss ratio', data=df_KS_WA, whis=np.inf, palette=['dodgerblue', 'orchid'])\n",
    "sns.stripplot(x='County', y='loss ratio', data=df_KS_WA, color='white', linewidth=0.5, edgecolor='black', jitter=0.04)\n",
    "\n",
    "plt.title('Loss Ratio Boxplots')\n",
    "plt.xlabel('')\n",
    "plt.ylabel('loss ratio')\n",
    "plt.grid(linestyle='-', linewidth=0.25)\n",
    "plt.show()"
   ]
  },
  {
   "cell_type": "markdown",
   "metadata": {},
   "source": [
    "### Plots (KS)"
   ]
  },
  {
   "cell_type": "code",
   "execution_count": 17,
   "metadata": {},
   "outputs": [
    {
     "data": {
      "image/png": "[encoded data removed]",
      "text/plain": [
       "<Figure size 750x500 with 1 Axes>"
      ]
     },
     "metadata": {
      "needs_background": "light"
     },
     "output_type": "display_data"
    }
   ],
   "source": [
    "sns.distplot(Grant_LR, kde=False, rug=True, bins=5, color='darkgreen', label='Grant')\n",
    "sns.distplot(Morton_LR, kde=False, rug=True, bins=5, color='lightgreen', label='Morton')\n",
    "\n",
    "plt.legend(loc='best')\n",
    "plt.title('Loss Ratio Distributions (KS)')\n",
    "plt.xlabel('loss ratio')\n",
    "plt.ylabel('count')\n",
    "plt.grid(linestyle='-', linewidth=0.25)\n",
    "plt.show()"
   ]
  },
  {
   "cell_type": "code",
   "execution_count": 36,
   "metadata": {},
   "outputs": [
    {
     "name": "stdout",
     "output_type": "stream",
     "text": [
      "(62, 2)\n"
     ]
    },
    {
     "data": {
      "text/html": [
       "<div>\n",
       "<style scoped>\n",
       "    .dataframe tbody tr th:only-of-type {\n",
       "        vertical-align: middle;\n",
       "    }\n",
       "\n",
       "    .dataframe tbody tr th {\n",
       "        vertical-align: top;\n",
       "    }\n",
       "\n",
       "    .dataframe thead th {\n",
       "        text-align: right;\n",
       "    }\n",
       "</style>\n",
       "<table border=\"1\" class=\"dataframe\">\n",
       "  <thead>\n",
       "    <tr style=\"text-align: right;\">\n",
       "      <th></th>\n",
       "      <th>loss ratio</th>\n",
       "      <th>County</th>\n",
       "    </tr>\n",
       "  </thead>\n",
       "  <tbody>\n",
       "    <tr>\n",
       "      <th>0</th>\n",
       "      <td>2.216181</td>\n",
       "      <td>Grant</td>\n",
       "    </tr>\n",
       "    <tr>\n",
       "      <th>1</th>\n",
       "      <td>0.819500</td>\n",
       "      <td>Grant</td>\n",
       "    </tr>\n",
       "    <tr>\n",
       "      <th>2</th>\n",
       "      <td>0.026550</td>\n",
       "      <td>Grant</td>\n",
       "    </tr>\n",
       "    <tr>\n",
       "      <th>3</th>\n",
       "      <td>0.160988</td>\n",
       "      <td>Grant</td>\n",
       "    </tr>\n",
       "    <tr>\n",
       "      <th>4</th>\n",
       "      <td>0.156027</td>\n",
       "      <td>Grant</td>\n",
       "    </tr>\n",
       "  </tbody>\n",
       "</table>\n",
       "</div>"
      ],
      "text/plain": [
       "   loss ratio County\n",
       "0    2.216181  Grant\n",
       "1    0.819500  Grant\n",
       "2    0.026550  Grant\n",
       "3    0.160988  Grant\n",
       "4    0.156027  Grant"
      ]
     },
     "execution_count": 36,
     "metadata": {},
     "output_type": "execute_result"
    }
   ],
   "source": [
    "df_Grant_LR = pd.DataFrame(Grant_LR, columns=['loss ratio'])\n",
    "df_Grant_LR['County'] = 'Grant'\n",
    "df_Morton_LR = pd.DataFrame(Morton_LR, columns=['loss ratio'])\n",
    "df_Morton_LR['County'] = 'Morton'\n",
    "df_Grant_Morton = pd.concat([df_Grant_LR, df_Morton_LR])\n",
    "\n",
    "print(df_Grant_Morton.shape)\n",
    "df_Grant_Morton.head()"
   ]
  },
  {
   "cell_type": "code",
   "execution_count": 42,
   "metadata": {},
   "outputs": [
    {
     "data": {
      "image/png": "[encoded data removed]",
      "text/plain": [
       "<Figure size 750x500 with 1 Axes>"
      ]
     },
     "metadata": {
      "needs_background": "light"
     },
     "output_type": "display_data"
    }
   ],
   "source": [
    "sns.boxplot(x='County', y='loss ratio', data=df_Grant_Morton, whis=np.inf, palette=['darkgreen', 'lightgreen'])\n",
    "sns.stripplot(x='County', y='loss ratio', data=df_Grant_Morton, color='white', linewidth=0.5, edgecolor='black', jitter=0.04)\n",
    "\n",
    "plt.title('Loss Ratio Boxplots (KS)')\n",
    "plt.xlabel('')\n",
    "plt.ylabel('loss ratio')\n",
    "plt.grid(linestyle='-', linewidth=0.25)\n",
    "plt.show()"
   ]
  },
  {
   "cell_type": "markdown",
   "metadata": {},
   "source": [
    "### Plots (WA)"
   ]
  },
  {
   "cell_type": "code",
   "execution_count": 18,
   "metadata": {},
   "outputs": [
    {
     "data": {
      "image/png": "[encoded data removed]",
      "text/plain": [
       "<Figure size 750x500 with 1 Axes>"
      ]
     },
     "metadata": {
      "needs_background": "light"
     },
     "output_type": "display_data"
    }
   ],
   "source": [
    "fig, ax = plt.subplots()\n",
    "\n",
    "sns.distplot(Skagit_LR, kde=False, rug=True, bins=5, color='lightpink', label='Skagit')\n",
    "sns.distplot(Whitman_LR, kde=False, rug=True, bins=5, color='deeppink', label='Whitman')\n",
    "\n",
    "plt.legend(loc='best')\n",
    "plt.title('Loss Ratio Distributions (WA)')\n",
    "plt.xlabel('loss ratio')\n",
    "plt.ylabel('count')\n",
    "#plt.gca().yaxis.set_major_formatter(FuncFormatter(lambda x, _: int(x)))\n",
    "#plt.figure().gca().yaxis.set_major_locator(MaxNLocator(integer=True))\n",
    "ax.set_yticks(range(0,22,3))\n",
    "\n",
    "plt.grid(linestyle='-', linewidth=0.25)\n",
    "plt.show()"
   ]
  },
  {
   "cell_type": "code",
   "execution_count": 43,
   "metadata": {},
   "outputs": [
    {
     "name": "stdout",
     "output_type": "stream",
     "text": [
      "(57, 2)\n"
     ]
    },
    {
     "data": {
      "text/html": [
       "<div>\n",
       "<style scoped>\n",
       "    .dataframe tbody tr th:only-of-type {\n",
       "        vertical-align: middle;\n",
       "    }\n",
       "\n",
       "    .dataframe tbody tr th {\n",
       "        vertical-align: top;\n",
       "    }\n",
       "\n",
       "    .dataframe thead th {\n",
       "        text-align: right;\n",
       "    }\n",
       "</style>\n",
       "<table border=\"1\" class=\"dataframe\">\n",
       "  <thead>\n",
       "    <tr style=\"text-align: right;\">\n",
       "      <th></th>\n",
       "      <th>loss ratio</th>\n",
       "      <th>County</th>\n",
       "    </tr>\n",
       "  </thead>\n",
       "  <tbody>\n",
       "    <tr>\n",
       "      <th>0</th>\n",
       "      <td>0.000000</td>\n",
       "      <td>Skagit</td>\n",
       "    </tr>\n",
       "    <tr>\n",
       "      <th>1</th>\n",
       "      <td>0.000000</td>\n",
       "      <td>Skagit</td>\n",
       "    </tr>\n",
       "    <tr>\n",
       "      <th>2</th>\n",
       "      <td>0.118555</td>\n",
       "      <td>Skagit</td>\n",
       "    </tr>\n",
       "    <tr>\n",
       "      <th>3</th>\n",
       "      <td>0.222476</td>\n",
       "      <td>Skagit</td>\n",
       "    </tr>\n",
       "    <tr>\n",
       "      <th>4</th>\n",
       "      <td>0.515913</td>\n",
       "      <td>Skagit</td>\n",
       "    </tr>\n",
       "  </tbody>\n",
       "</table>\n",
       "</div>"
      ],
      "text/plain": [
       "   loss ratio  County\n",
       "0    0.000000  Skagit\n",
       "1    0.000000  Skagit\n",
       "2    0.118555  Skagit\n",
       "3    0.222476  Skagit\n",
       "4    0.515913  Skagit"
      ]
     },
     "execution_count": 43,
     "metadata": {},
     "output_type": "execute_result"
    }
   ],
   "source": [
    "df_Skagit_LR = pd.DataFrame(Skagit_LR, columns=['loss ratio'])\n",
    "df_Skagit_LR['County'] = 'Skagit'\n",
    "df_Whitman_LR = pd.DataFrame(Whitman_LR, columns=['loss ratio'])\n",
    "df_Whitman_LR['County'] = 'Whitman'\n",
    "df_Skagit_Whitman = pd.concat([df_Skagit_LR, df_Whitman_LR])\n",
    "\n",
    "print(df_Skagit_Whitman.shape)\n",
    "df_Skagit_Whitman.head()"
   ]
  },
  {
   "cell_type": "code",
   "execution_count": 44,
   "metadata": {},
   "outputs": [
    {
     "data": {
      "image/png": "[encoded data removed]",
      "text/plain": [
       "<Figure size 750x500 with 1 Axes>"
      ]
     },
     "metadata": {
      "needs_background": "light"
     },
     "output_type": "display_data"
    }
   ],
   "source": [
    "sns.boxplot(x='County', y='loss ratio', data=df_Skagit_Whitman, whis=np.inf, palette=['lightpink', 'deeppink'])\n",
    "sns.stripplot(x='County', y='loss ratio', data=df_Skagit_Whitman, color='white', linewidth=0.5, edgecolor='black', jitter=0.04)\n",
    "\n",
    "plt.title('Loss Ratio Boxplots (WA)')\n",
    "plt.xlabel('')\n",
    "plt.ylabel('loss ratio')\n",
    "plt.grid(linestyle='-', linewidth=0.25)\n",
    "plt.show()"
   ]
  },
  {
   "cell_type": "markdown",
   "metadata": {},
   "source": [
    "### Statistics"
   ]
  },
  {
   "cell_type": "code",
   "execution_count": null,
   "metadata": {},
   "outputs": [],
   "source": []
  }
 ],
 "metadata": {
  "kernelspec": {
   "display_name": "Python 3",
   "language": "python",
   "name": "python3"
  },
  "language_info": {
   "codemirror_mode": {
    "name": "ipython",
    "version": 3
   },
   "file_extension": ".py",
   "mimetype": "text/x-python",
   "name": "python",
   "nbconvert_exporter": "python",
   "pygments_lexer": "ipython3",
   "version": "3.7.3"
  }
 },
 "nbformat": 4,
 "nbformat_minor": 2
}
